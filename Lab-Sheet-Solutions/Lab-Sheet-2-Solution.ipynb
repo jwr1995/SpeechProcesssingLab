{
 "cells": [
  {
   "cell_type": "markdown",
   "id": "b578f355",
   "metadata": {},
   "source": [
    "# Solutions for Lab Sheet 2 (COM3502-4502-6502 Speech Processing)"
   ]
  },
  {
   "cell_type": "markdown",
   "id": "c44886b7",
   "metadata": {},
   "source": [
    "This lab sheet is part of the lecture COM[3502](http://www.dcs.shef.ac.uk/intranet/teaching/public/modules/level3/com3502.html \"Open web page for COM3502 module\")-[4502](http://www.dcs.shef.ac.uk/intranet/teaching/public/modules/level4/com4502.html \"Open web page for COM4502 module\")-[6502](http://www.dcs.shef.ac.uk/intranet/teaching/public/modules/msc/com6502.html \"Open web page for COM4502 module\") Speech Processing at the [University of Sheffield](https://www.sheffield.ac.uk/ \"Open web page of The University of Sheffield\"), Dept. of [Computer Science](https://www.sheffield.ac.uk/dcs \"Open web page of Department of Computer Science, University of Sheffield\")."
   ]
  },
  {
   "cell_type": "markdown",
   "id": "6f41341f",
   "metadata": {},
   "source": [
    "It is probably easiest to open this Jupyter Notebook with [Google Colab](https://colab.research.google.com/notebooks/intro.ipynb#recent=true \"Open in Google Colab\") since GitHub's Viewer does not show all details correctly. <a href=\"https://colab.research.google.com/github/sap-shef/SpeechProcesssingLab/blob/main/Lab-Sheet-Solutions/Lab-Sheet-2-Solution.ipynb\"><img align=\"right\" src=\"https://colab.research.google.com/assets/colab-badge.svg\" alt=\"Open Notebook in Google Colab\" title=\"Open and Execute the Notebook directly in Google Colaboratory\"></a>\n",
    "\n",
    "Please put questions, comments and correction suggestions in the [Blackboard](https://vle.shef.ac.uk) discussion board or send an email to [s.goetze@sheffield.ac.uk](mailto:s.goetze@sheffield.ac.uk)."
   ]
  },
  {
   "cell_type": "code",
   "execution_count": null,
   "id": "b29187ca",
   "metadata": {},
   "outputs": [],
   "source": [
    "# Let's do the ususal necessary and nice-to-have imports\n",
    "%matplotlib inline\n",
    "import matplotlib.pyplot as plt  # plotting\n",
    "import seaborn as sns; sns.set() # styling\n",
    "import numpy as np               # math"
   ]
  },
  {
   "cell_type": "markdown",
   "id": "c3760475",
   "metadata": {},
   "source": [
    "## Task 1 - Generate sine wave"
   ]
  },
  {
   "cell_type": "code",
   "execution_count": null,
   "id": "4a5a8deb",
   "metadata": {},
   "outputs": [],
   "source": [
    "def get_sine_wave(frequency_hz, length_s=1, sample_rate_hz=8000):\n",
    "    \"\"\"\n",
    "    Return a sine wave with given parameters.\n",
    "    \n",
    "    Parameters\n",
    "    ----------\n",
    "    frequency_hz : float\n",
    "        frequency $f$ of the sinus to be generated \n",
    "    length_s : float, optional\n",
    "        length of the sine signal to be generated, default: 1 sec.\n",
    "    sample_rate_hz : float, optional\n",
    "        sampling frequency $f_s$, default: 8000 Hz\n",
    "\n",
    "    Returns\n",
    "    -------\n",
    "    signal\n",
    "        generated sinus signal\n",
    "    \"\"\"\n",
    "    time_points = np.linspace(0, length_s,\n",
    "                              int(length_s * sample_rate_hz),\n",
    "                              endpoint=False)\n",
    "    return np.sin(2 * np.pi * frequency_hz * time_points)"
   ]
  },
  {
   "cell_type": "code",
   "execution_count": null,
   "id": "62cfefe4",
   "metadata": {},
   "outputs": [],
   "source": [
    "concert_pitch = get_sine_wave(440, 2, 8000)\n",
    "# Look at the first 30 ms (240 / 8000 = 0.03 s) of the generated wave\n",
    "plt.plot(concert_pitch[:240])\n",
    "plt.xlabel('sample $k$')\n",
    "plt.ylabel('sine of 440 Hz')\n",
    "plt.title('First 240 samples of sine of 440 Hz')\n",
    "None # This command does nothing but prevents printing the result of previous function call"
   ]
  },
  {
   "cell_type": "code",
   "execution_count": null,
   "id": "259fef60",
   "metadata": {},
   "outputs": [],
   "source": [
    "# listen to the sound file \n",
    "from IPython import display as ipd\n",
    "ipd.Audio(concert_pitch, rate=8000, normalize=False)"
   ]
  },
  {
   "cell_type": "markdown",
   "id": "7ac47a2b",
   "metadata": {},
   "source": [
    "We can concatenate signals to form a longer signal.\n",
    "As an example we want to create a new signal with half the concert pitch frequency and then play it 2 times alternating with the concert pitch."
   ]
  },
  {
   "cell_type": "code",
   "execution_count": null,
   "id": "45566530",
   "metadata": {},
   "outputs": [],
   "source": [
    "half_concert_pitch = get_sine_wave(220, 2, 8000)\n",
    "# Look at the first 0.02 s of the signals\n",
    "\n",
    "plt.plot(half_concert_pitch[:160], \"red\",label=\"sine with $f=200$ Hz\")\n",
    "plt.plot(concert_pitch[:160], \"green\",label=\"sine with $f=400$ Hz\")\n",
    "plt.xlabel('samples $k$')\n",
    "plt.legend()\n",
    "\n",
    "alternation = np.concatenate((half_concert_pitch, concert_pitch,\n",
    "                              half_concert_pitch, concert_pitch))\n",
    "ipd.Audio(alternation, rate=8000)"
   ]
  },
  {
   "cell_type": "markdown",
   "id": "abc2c9e2",
   "metadata": {},
   "source": [
    "We can observe that the blue `concert_pitch` frequency is exactly double the red `half_concert_pitch` frequency.\n",
    "\n",
    "Adding together two signals gives a signal where both frequencies can be heard.\n",
    "The resulting signal does not look like a sine wave anymore but we can still clearly see its periodicity.\n",
    "The periodicity is so promiment because one frequency is a multiple of the other.\n",
    "If this is not the case it can take much longer for the signal to repeat its pattern."
   ]
  },
  {
   "cell_type": "code",
   "execution_count": null,
   "id": "fa904954",
   "metadata": {},
   "outputs": [],
   "source": [
    "# Look at the first 0.02 s of the signals (which is 160 samples @ 8kHz)\n",
    "plt.plot(half_concert_pitch[:160], \"red\", alpha=0.3)\n",
    "plt.plot(concert_pitch[:160], \"green\", alpha=0.3)\n",
    "plt.plot(half_concert_pitch[:160] + concert_pitch[:160])\n",
    "ipd.Audio(half_concert_pitch + concert_pitch, rate=8000)"
   ]
  },
  {
   "cell_type": "markdown",
   "id": "29e0b3df",
   "metadata": {},
   "source": [
    "## Damped Sine\n",
    "\n",
    "A damped sine can be defined as\n",
    "\n",
    "\\begin{equation}\n",
    "x(t) = \\mathrm{sin}(2 \\pi f t) \\mathrm{e}^{- \\alpha t}\n",
    "\\end{equation}\n"
   ]
  },
  {
   "cell_type": "code",
   "execution_count": null,
   "id": "833acb7e",
   "metadata": {},
   "outputs": [],
   "source": [
    "fs=8000\n",
    "t=np.arange(0,1,1/fs) # crete time vector of 2 seconds length\n",
    "f = 2.5               # 2.5 Hz \n",
    "alpha = 1             # daming factor (play around with it and see what happens)\n",
    "\n",
    "sin  = np.sin(2*np.pi*f*t)\n",
    "damp = np.exp(-alpha*t)\n",
    "x = sin * damp\n",
    "\n",
    "plt.subplot(2,1,1)\n",
    "plt.plot(t,sin)\n",
    "plt.ylabel('sin($t$)')\n",
    "\n",
    "plt.subplot(2,1,2)\n",
    "plt.plot(t,x, label='sin$(2 \\pi \\cdot ' + str(f) + ' \\mathrm{Hz} \\cdot t) \\cdot \\mathrm{e}^{- a t}$')\n",
    "plt.plot(t,damp, '--', label='$\\mathrm{e}^{- a t}$')\n",
    "plt.legend()\n",
    "plt.xlabel('$t$ in seconds'); # the ; also suppresses output, try to delete it"
   ]
  },
  {
   "cell_type": "code",
   "execution_count": null,
   "id": "98b12b14",
   "metadata": {},
   "outputs": [],
   "source": [
    "concert_pitch_1sec = get_sine_wave(440, 1, 8000)\n",
    "half_concert_pitch_1sec = get_sine_wave(220, 1, 8000)\n",
    "\n",
    "\n",
    "alternation_damped = np.concatenate((half_concert_pitch_1sec, concert_pitch_1sec,\n",
    "                                     half_concert_pitch_1sec, concert_pitch_1sec))\n",
    "\n",
    "ipd.Audio(alternation_damped, rate=8000)"
   ]
  },
  {
   "cell_type": "code",
   "execution_count": null,
   "id": "2751c543",
   "metadata": {},
   "outputs": [],
   "source": [
    "alternation_damped = np.concatenate((half_concert_pitch_1sec* damp, concert_pitch_1sec* damp,\n",
    "                                     half_concert_pitch_1sec* damp, concert_pitch_1sec* damp))\n",
    "ipd.Audio(alternation_damped, rate=8000)"
   ]
  },
  {
   "cell_type": "markdown",
   "id": "cb67689c",
   "metadata": {},
   "source": [
    "## Play a song\n",
    "\n",
    "By generating sine waves of different lengths and frequencies with `get_sine_wave` you are now able to play simple songs.\n",
    "What we are missing to do that is a function to generate silence.\n",
    "Implement the following function `get_silence` to generate an array of 0-values of the desired length."
   ]
  },
  {
   "cell_type": "code",
   "execution_count": null,
   "id": "dbe93b4e",
   "metadata": {},
   "outputs": [],
   "source": [
    "def get_silence(length_s, sample_rate_hz):\n",
    "    \"\"\"Return silence for the given length at the given sample rate.\"\"\"\n",
    "    return np.zeros(int(length_s * sample_rate_hz))"
   ]
  },
  {
   "cell_type": "code",
   "execution_count": null,
   "id": "4558afa2",
   "metadata": {},
   "outputs": [],
   "source": [
    "def create_tone(note, duration):\n",
    "    \n",
    "    tempo = 5\n",
    "\n",
    "    if note == \"Pause\":\n",
    "        return get_silence(length_s=duration*tempo, sample_rate_hz=8000)\n",
    "\n",
    "    note_position = {\n",
    "        \"C\": -9,\n",
    "        \"C#\": -8,\n",
    "        \"D\": -7,\n",
    "        \"D#\": -6,\n",
    "        \"E\": -5,\n",
    "        \"F\": -4,\n",
    "        \"F#\": -3,\n",
    "        \"G\": -2,\n",
    "        \"G#\": -1,\n",
    "        \"A\": 0,\n",
    "        \"A#\": 1,\n",
    "        \"B\": 2,\n",
    "    }\n",
    "\n",
    "    octave = int(note[-1])\n",
    "    key = note[:-1]\n",
    "\n",
    "    frequency_hz = 440 * 2 ** ((note_position[key] / 12) + (octave - 4))\n",
    "\n",
    "    return get_sine_wave(\n",
    "        frequency_hz=frequency_hz, length_s=duration*tempo, sample_rate_hz=8000\n",
    "    )"
   ]
  },
  {
   "cell_type": "code",
   "execution_count": null,
   "id": "160ca788",
   "metadata": {},
   "outputs": [],
   "source": [
    "right_hand_notes = [\n",
    "    (\"E5\", 1 / 16),\n",
    "    (\"D#5\", 1 / 16),\n",
    "    (\"E5\", 1 / 16),\n",
    "    (\"D#5\", 1 / 16),\n",
    "    (\"E5\", 1 / 16),\n",
    "    (\"B4\", 1 / 16),\n",
    "    (\"D5\", 1 / 16),\n",
    "    (\"C5\", 1 / 16),\n",
    "    (\"A4\", 1 / 8),\n",
    "    (\"Pause\", 1 / 16),\n",
    "    (\"C4\", 1 / 16),\n",
    "    (\"E4\", 1 / 16),\n",
    "    (\"A4\", 1 / 16),\n",
    "    (\"B4\", 1 / 8),\n",
    "    (\"Pause\", 1 / 16),\n",
    "    (\"E4\", 1 / 16),\n",
    "    (\"G#4\", 1 / 16),\n",
    "    (\"B4\", 1 / 16),\n",
    "    (\"C4\", 1 / 8),\n",
    "    (\"Pause\", 1 / 16),\n",
    "    (\"E4\", 1 / 16),\n",
    "    (\"E5\", 1 / 16),\n",
    "    (\"D#5\", 1 / 16),\n",
    "    (\"E5\", 1 / 16),\n",
    "    (\"D#5\", 1 / 16),\n",
    "    (\"E5\", 1 / 16),\n",
    "    (\"B4\", 1 / 16),\n",
    "    (\"D5\", 1 / 16),\n",
    "    (\"C5\", 1 / 16),\n",
    "    (\"A4\", 1 / 8),\n",
    "    (\"Pause\", 1 / 16),\n",
    "    (\"C4\", 1 / 16),\n",
    "    (\"E4\", 1 / 16),\n",
    "    (\"A4\", 1 / 16),\n",
    "    (\"B4\", 1 / 8),\n",
    "    (\"Pause\", 1 / 16),\n",
    "    (\"E4\", 1 / 16),\n",
    "    (\"C5\", 1 / 16),\n",
    "    (\"B4\", 1 / 16),\n",
    "    (\"A4\", 1 / 4),\n",
    "]\n",
    "\n",
    "left_hand_notes = [\n",
    "    (\"Pause\", 1 / 8),\n",
    "    (\"Pause\", 3 / 8),\n",
    "    (\"A2\", 1 / 16),\n",
    "    (\"E3\", 1 / 16),\n",
    "    (\"A3\", 1 / 16),\n",
    "    (\"Pause\", 3 / 16),\n",
    "    (\"E2\", 1 / 16),\n",
    "    (\"E3\", 1 / 16),\n",
    "    (\"G#3\", 1 / 16),\n",
    "    (\"Pause\", 3 / 16),\n",
    "    (\"A2\", 1 / 16),\n",
    "    (\"E3\", 1 / 16),\n",
    "    (\"B3\", 1 / 16),\n",
    "    (\"Pause\", 3 / 16),\n",
    "    (\"Pause\", 3 / 8),\n",
    "    (\"A2\", 1 / 16),\n",
    "    (\"E3\", 1 / 16),\n",
    "    (\"A3\", 1 / 16),\n",
    "    (\"Pause\", 3 / 16),\n",
    "    (\"E2\", 1 / 16),\n",
    "    (\"E3\", 1 / 16),\n",
    "    (\"G#3\", 1 / 16),\n",
    "    (\"Pause\", 3 / 16),\n",
    "    (\"A2\", 1 / 16),\n",
    "    (\"E3\", 1 / 16),\n",
    "    (\"B3\", 1 / 16),\n",
    "    (\"Pause\", 1 / 16),\n",
    "]"
   ]
  },
  {
   "cell_type": "code",
   "execution_count": null,
   "id": "9c09279b",
   "metadata": {},
   "outputs": [],
   "source": [
    "right_hand, left_hand = None, None  # Prefill values\n",
    "\n",
    "# Uncomment and fill song details\n",
    "right_hand = np.concatenate(\n",
    "    [create_tone(note, duration) for note, duration in right_hand_notes]\n",
    ")\n",
    "\n",
    "# Uncomment and fill song details\n",
    "left_hand = np.concatenate(\n",
    "    [create_tone(note, duration) for note, duration in left_hand_notes]\n",
    ")"
   ]
  },
  {
   "cell_type": "code",
   "execution_count": null,
   "id": "43fb7028",
   "metadata": {},
   "outputs": [],
   "source": [
    "if left_hand is not None and right_hand is not None:\n",
    "    song = left_hand + right_hand\n",
    "    ipd.display(ipd.Audio(song, rate=8000))"
   ]
  },
  {
   "cell_type": "markdown",
   "id": "673bb477",
   "metadata": {},
   "source": [
    "## Sampling Frequency"
   ]
  },
  {
   "cell_type": "code",
   "execution_count": null,
   "id": "f398c44e",
   "metadata": {},
   "outputs": [],
   "source": [
    "import soundfile as sf # for loading wave files from hard disk\n",
    "\n",
    "# download\n",
    "!curl https://staffwww.dcs.shef.ac.uk/people/S.Goetze/sound/music_44k.wav -o music_44k.wav \n",
    "\n",
    "# load WAVE files\n",
    "mus_44k, fs44 = sf.read('music_44k.wav')"
   ]
  },
  {
   "cell_type": "code",
   "execution_count": null,
   "id": "08fbf0c7",
   "metadata": {},
   "outputs": [],
   "source": [
    "import librosa         # we will use librosa here for resampling\n",
    "\n",
    "mus_8k = librosa.resample(mus_44k, fs44, 8000); # resample to 8 kHz\n",
    "mus_44k_2 = librosa.resample(mus_8k, 8000, fs44); # resample to 44.1 kHz\n",
    "\n",
    "#mus_8k, fs8 = librosa.load('music_44k.wav', sr=8000); # Downsample original file (44.1kHz) to 8kHz\n",
    "\n",
    "plt.subplot(1,2,1)\n",
    "plt.specgram(mus_44k, Fs=fs44);\n",
    "plt.subplot(1,2,2)\n",
    "plt.specgram(mus_44k_2, Fs=fs44);"
   ]
  },
  {
   "cell_type": "code",
   "execution_count": null,
   "id": "5294303a",
   "metadata": {},
   "outputs": [],
   "source": [
    "ipd.Audio(mus_44k, rate=fs44)"
   ]
  },
  {
   "cell_type": "code",
   "execution_count": null,
   "id": "bc1f86ce",
   "metadata": {},
   "outputs": [],
   "source": [
    "ipd.Audio(mus_44k_2, rate=fs44)"
   ]
  }
 ],
 "metadata": {
  "kernelspec": {
   "display_name": "Python 3 (ipykernel)",
   "language": "python",
   "name": "python3"
  },
  "language_info": {
   "codemirror_mode": {
    "name": "ipython",
    "version": 3
   },
   "file_extension": ".py",
   "mimetype": "text/x-python",
   "name": "python",
   "nbconvert_exporter": "python",
   "pygments_lexer": "ipython3",
   "version": "3.8.3"
  }
 },
 "nbformat": 4,
 "nbformat_minor": 5
}
