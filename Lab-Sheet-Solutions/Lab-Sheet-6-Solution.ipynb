{
 "cells": [
  {
   "cell_type": "markdown",
   "id": "602ec05f",
   "metadata": {},
   "source": [
    "# Solutions for Lab Sheet 6 (COM3502-4502-6502 Speech Processing)"
   ]
  },
  {
   "cell_type": "markdown",
   "id": "63a91c31",
   "metadata": {},
   "source": [
    "This lab sheet (solution) is part of the lecture COM[3502](http://www.dcs.shef.ac.uk/intranet/teaching/public/modules/level3/com3502.html \"Open web page for COM3502 module\")-[4502](http://www.dcs.shef.ac.uk/intranet/teaching/public/modules/level4/com4502.html \"Open web page for COM4502 module\")-[6502](http://www.dcs.shef.ac.uk/intranet/teaching/public/modules/msc/com6502.html \"Open web page for COM4502 module\") Speech Processing at the [University of Sheffield](https://www.sheffield.ac.uk/ \"Open web page of The University of Sheffield\"), Dept. of [Computer Science](https://www.sheffield.ac.uk/dcs \"Open web page of Department of Computer Science, University of Sheffield\")."
   ]
  },
  {
   "cell_type": "markdown",
   "id": "5c48538b",
   "metadata": {},
   "source": [
    "It is probably easiest to open this Jupyter Notebook with [Google Colab](https://colab.research.google.com/notebooks/intro.ipynb#recent=true \"Open in Google Colab\") since GitHub's Viewer does not always show all details correctly. <a href=\"https://colab.research.google.com/github/sap-shef/SpeechProcesssingLab/blob/main/Lab-Sheet-Solutions/Lab-Sheet-6-Solution.ipynb\"><img align=\"right\" src=\"https://colab.research.google.com/assets/colab-badge.svg\" alt=\"Open Notebook in Google Colab\" title=\"Open and Execute the Notebook directly in Google Colaboratory\"></a>\n",
    "\n",
    "Please put questions, comments and correction suggestions in the [Blackboard](https://vle.shef.ac.uk) discussion board or send an email to [s.goetze@sheffield.ac.uk](mailto:s.goetze@sheffield.ac.uk)."
   ]
  },
  {
   "cell_type": "code",
   "execution_count": null,
   "id": "2aadbcfc",
   "metadata": {},
   "outputs": [],
   "source": [
    "# Let's do the ususal necessary and nice-to-have imports\n",
    "%matplotlib inline\n",
    "import matplotlib.pyplot as plt  # plotting\n",
    "import seaborn as sns; sns.set() # styling ((un-)comment if you want)\n",
    "import numpy as np               # math"
   ]
  },
  {
   "cell_type": "markdown",
   "id": "8484d518",
   "metadata": {},
   "source": [
    "## The Chirp Signal, a.k.a. Sweep Signal\n",
    "\n",
    "The function \n",
    "\\begin{equation}\n",
    "x_{\\mathrm{chirp}}(t)=\\sin\\left(\\pi t^2\\right) \\tag{1}\n",
    "\\end{equation}\n",
    "defines the so-called **linear-frequency [chirp](https://en.wikipedia.org/wiki/Chirp \"Click here for additional information on the Chirp signal on Wikipedia\")** or simply linear chirp. It is a signal that sweeps through diffrent frequencies over time.\n",
    "\n",
    "The instantaneous frequency $f(t)$ of this chirp signal increases exactly linearly with time, i.e. $f(t)=f_0+ a t$ with a constant $a=\\frac{f_1-f_0}{t_1-t_0}$. More precisely, the instantaneous angular frequency $\\omega(t)$ of the chirp signal at time $t$ is the derivate of the sinusoid's argument divided by $2\\pi$, thus $\\omega(t) = t$. "
   ]
  },
  {
   "cell_type": "code",
   "execution_count": null,
   "id": "01177637",
   "metadata": {},
   "outputs": [],
   "source": [
    "fs=8000      # sampling frequency\n",
    "t1=0         # time 1 in seconds\n",
    "t2=12        # time 2 in seconds\n",
    "length=t2-t1 # signlal length in seconds\n",
    "\n",
    "# create time vector from t1 to t2\n",
    "t = np.linspace(t1, t2, length*fs) # time vector from t1 to t2\n",
    "# create chirp signal\n",
    "x = np.sin(np.pi*t**2)\n",
    "\n",
    "# plot chirp signal\n",
    "plt.figure()\n",
    "plt.subplot(2,1,1)\n",
    "plt.plot(t,x)\n",
    "plt.ylabel('$x_{\\mathrm{chirp}}(t)$')\n",
    "plt.xlabel('$t$ in sec')\n",
    "plt.title('Linear Chirp $x_{\\mathrm{chirp}}(t)=\\mathrm{sin}(\\pi t^2)$ between t='+str(t1)+' sec and t='+str(t2)+' sec')\n",
    "\n",
    "#spectrum here (for different times)\n",
    "\n",
    "plt.tight_layout()"
   ]
  },
  {
   "cell_type": "markdown",
   "id": "53ecc3c2",
   "metadata": {},
   "source": [
    "### Spectrogram vs. Spectrum of Chirp Signal"
   ]
  },
  {
   "cell_type": "code",
   "execution_count": null,
   "id": "9f8a21b6",
   "metadata": {},
   "outputs": [],
   "source": [
    "plt.subplot(2,1,2)\n",
    "L = 9192        # DFT length (we need a relatively large number here for high frequency resolution)\n",
    "overlap = 4096  # also large overlap to get some time resolution between segments\n",
    "plt.specgram(x,NFFT=L, Fs=fs, noverlap=overlap)\n",
    "plt.grid(False)\n",
    "plt.ylim(0,50)\n",
    "plt.colorbar()  # add a colorbar to the spectrogram\n",
    "plt.clim(-100,0)\n",
    "plt.title('Spectrogram of Linear Chirp')\n",
    "plt.ylabel('$f$ in Hz')\n",
    "plt.xlabel('$t$ in sec')\n",
    "None"
   ]
  },
  {
   "cell_type": "code",
   "execution_count": null,
   "id": "b023c3a8",
   "metadata": {},
   "outputs": [],
   "source": []
  },
  {
   "cell_type": "markdown",
   "id": "f9c5aac1",
   "metadata": {},
   "source": [
    "### Colorbars for Spectrograms and Controlling the Colorbar\n",
    "Using the module `gridspec` allows to align plots that have elements with and without a colorbar. This is demonstrated by the following example, which uses the gridspec-constructor with keywords specified by the dictionary gridspec_kw. This dictionary, in turn, is one of the parameters of plt.subplots, which creates a figure and a set of subplots."
   ]
  },
  {
   "cell_type": "code",
   "execution_count": null,
   "id": "8ab7b024",
   "metadata": {},
   "outputs": [],
   "source": [
    "fig, ax = plt.subplots(2, 2, gridspec_kw={'width_ratios':  [1, 0.05], \n",
    "                                          'height_ratios': [1, 2]}, figsize=(8, 4))\n",
    "im = ax[0, 0].plot(t, x, color='gray')\n",
    "ax[0, 0].set_xlabel('Time (seconds)')\n",
    "ax[0, 0].set_ylabel('Amplitude')\n",
    "\n",
    "ax[0, 0].set_xlim([t1, t2])\n",
    "#ax[0, 0].set_ylim([-0.40, 0.40])\n",
    "ax[0, 1].set_axis_off() # do not display the axis in right upper corner\n",
    "\n",
    "\n",
    "spec,_,_,im = ax[1, 0].specgram(x,NFFT=L, Fs=fs, noverlap=overlap)\n",
    "#im = ax[1, 0].imshow(10*np.log10(spec), aspect='auto', origin='lower', extent=[t1, t2, 0, 50])\n",
    "plt.colorbar(mappable=im, cax=ax[1, 1])\n",
    "ax[1, 0].set_xlabel('Time (seconds)')\n",
    "ax[1, 0].set_ylabel('$f$ in Hz')\n",
    "ax[1, 0].grid(False)\n",
    "ax[1, 1].set_ylabel('Magnitude')\n",
    "\n",
    "plt.tight_layout()"
   ]
  },
  {
   "cell_type": "markdown",
   "id": "c165ed67",
   "metadata": {},
   "source": [
    "## Overlap-Add"
   ]
  },
  {
   "cell_type": "code",
   "execution_count": null,
   "id": "7aea0bc8",
   "metadata": {},
   "outputs": [],
   "source": [
    "def nextPowerOf2(n):\n",
    "    '''\n",
    "    Calculates the smallest power of 2 which is bigger than input variable n\n",
    "    \n",
    "    Example:\n",
    "        for n in range(20):\n",
    "            print('nextPowerOf2(n) for n='+str(n)+' is '+str(nextPowerOf2(n)))\n",
    "    '''\n",
    "    if (n<2):\n",
    "        return 2\n",
    "    # If n is a power of 2 then return n \n",
    "    if (n and not(n & (n - 1))):\n",
    "        return n\n",
    "    # If n is NOT a power of 2 \n",
    "    p = 1\n",
    "    while (p < n) :\n",
    "        p <<= 1 \n",
    "    return p\n",
    " \n",
    "\n",
    "\n",
    "L_x = 32\n",
    "L_h = 4\n",
    "x=np.ones(L_x)\n",
    "h=np.ones(L_h)\n",
    "\n",
    "L_Bl  = 8   # block length (see Fig 2.25 in https://staffwww.dcs.shef.ac.uk/people/S.Goetze/book/Ch2.S3.html)\n",
    "L_hop = 8\n",
    "L_DFT = nextPowerOf2(L_Bl+L_h-1)\n",
    "# L_DFT = 16\n",
    "\n",
    "noOfFrames = (L_x // L_hop) # number of blocks\n",
    "\n",
    "# outer loop over mic channels\n",
    "# h = np.zeros(L_DFT)\n",
    "# h[:L_h] = h\n",
    "H = np.fft.rfft(h, n=L_DFT)\n",
    "oldBlock = []\n",
    "for iFrame in range(noOfFrames):\n",
    "  #x_block = np.zeros(L_DFT) # zero padding # not needed\n",
    "  k = np.arange(iFrame*L_hop, iFrame*L_hop+L_Bl) # time vector\n",
    "  x_block = x[k]\n",
    "  # k = np.hstack((k,np.zeros(L_DFT-len(k))))  # zero padding\n",
    "  X_block = np.fft.rfft(x_block, n=L_DFT)\n",
    "\n",
    "  Y = X_block*H # frequency domain multiplication\n",
    "  y = np.fft.irfft(Y, n=L_DFT)\n",
    "\n",
    "  k2 = np.arange(iFrame*L_hop, iFrame*L_hop+L_DFT) # time vector\n",
    "  plt.figure()\n",
    "  plt.stem(k2,y)"
   ]
  },
  {
   "cell_type": "code",
   "execution_count": null,
   "id": "c761c7c6",
   "metadata": {},
   "outputs": [],
   "source": []
  }
 ],
 "metadata": {
  "kernelspec": {
   "display_name": "Python 3 (ipykernel)",
   "language": "python",
   "name": "python3"
  },
  "language_info": {
   "codemirror_mode": {
    "name": "ipython",
    "version": 3
   },
   "file_extension": ".py",
   "mimetype": "text/x-python",
   "name": "python",
   "nbconvert_exporter": "python",
   "pygments_lexer": "ipython3",
   "version": "3.8.3"
  }
 },
 "nbformat": 4,
 "nbformat_minor": 5
}
