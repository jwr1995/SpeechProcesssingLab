{
 "cells": [
  {
   "cell_type": "markdown",
   "id": "aaf92294",
   "metadata": {},
   "source": [
    "# Lab Sheet 1 (COM3502-4502-6502 Speech Processing)"
   ]
  },
  {
   "cell_type": "markdown",
   "id": "833d4ce1",
   "metadata": {},
   "source": [
    "## Use of external libraries\n",
    "\n",
    "For the Speech Processing module one of the intended learning outcomes is to understand basic functionality of signal processing algorithms for which you usually would use external libraries (`librosa`, `PyAudio` or similar). We try to avoid using these libraries as far as possible, until we understand the underlying principles.\n",
    "\n",
    "However, some very basic functionality is provided by the following libraries (which we therefore will regularly use):"
   ]
  },
  {
   "cell_type": "code",
   "execution_count": 1,
   "id": "e3da92a0",
   "metadata": {},
   "outputs": [],
   "source": [
    "#Let's do some necessary and nice-to-have imports\n",
    "%matplotlib inline\n",
    "import matplotlib.pyplot as plt  # plotting\n",
    "import seaborn as sns; sns.set() # styling\n",
    "import numpy as np               # math"
   ]
  },
  {
   "cell_type": "markdown",
   "id": "589b22db",
   "metadata": {},
   "source": [
    "# Handling Audio files\n",
    "\n",
    "To process speech signals, we want to load a sound file. The following command loads the file `speech.wav` to the hard disk:\n",
    "\n",
    "```python\n",
    "# download speech and noise example files\n",
    "!curl https://staffwww.dcs.shef.ac.uk/people/S.Goetze/sound/speech.wav -o speech.wav \n",
    "```\n",
    "\n",
    "This file can now be loaded into the variable `s` unsing the `soundfile` library.\n",
    "\n",
    "```python\n",
    "# download speech and noise example files\n",
    "import soundfile as sf\n",
    "s, sr = sf.read('speech.wav')\n",
    "```\n",
    "\n",
    "\n",
    "<div style=\"border: 2px solid #999; padding: 10px; background: #eee;\">\n",
    "    \n",
    "**Task 1:**\n",
    "    \n",
    "Load the wave file above and display the signal in the time domain. Listen to the signal    \n",
    "</div>\n"
   ]
  },
  {
   "cell_type": "code",
   "execution_count": 2,
   "id": "24ea1b59",
   "metadata": {},
   "outputs": [],
   "source": [
    "# put your code here to load the wave file\n",
    "\n",
    "# ...\n",
    "\n",
    "# plot the time domain signal\n",
    "\n",
    "# ...\n"
   ]
  },
  {
   "cell_type": "markdown",
   "id": "67f2c706",
   "metadata": {},
   "source": [
    "Display the time domain signal (using `matplotlib` library) and playback the sound file using the method `IPython.display.Audio(...)` from the library `IPython`)."
   ]
  },
  {
   "cell_type": "code",
   "execution_count": 3,
   "id": "d6fa6e64",
   "metadata": {},
   "outputs": [],
   "source": [
    "import IPython.display as ipd # for interactive notebook elements \n",
    "\n",
    "# put your code here to play the wave file\n",
    "# ipd.Audio(...\n"
   ]
  },
  {
   "cell_type": "markdown",
   "id": "e9f5d49b",
   "metadata": {},
   "source": [
    "## Generate a Sine signal\n",
    "\n",
    "A sine signal is defined as \n",
    "\n",
    "\\begin{equation}\n",
    "x(t)= \\mbox{sin}(2 \\pi f t + \\phi).\n",
    "\\end{equation}    \n",
    "\n",
    "for a particular frequency $f$. \n",
    "\n",
    "A sine signal can be generated using `numpy`'s sine function.\n",
    "\n",
    "<br>\n",
    "<div style=\"border: 2px solid #999; padding: 10px; background: #eee;\">\n",
    "    \n",
    "**Task 2:**\n",
    "    \n",
    "Generate a sine of a particular frequency $f=250$ Hz, display and play it back. \n",
    "    \n",
    "It makes sense to first generate a time vector $t$. Consider using one of the commands `np.arange(...)` or `np.linspace(...)` (familiarise yourself with both).\n",
    "    \n",
    "Play around with different frequencies. Play around with phase shifts by setting $\\phi \\neq 0$.\n",
    "</div>"
   ]
  },
  {
   "cell_type": "code",
   "execution_count": 4,
   "id": "6b31ccec",
   "metadata": {},
   "outputs": [],
   "source": [
    "# Time specifications:\n",
    "fs = 8000                        # samples per second\n",
    "dt = 1/fs                        # seconds per sample\n",
    "StopTime = 0.75                  # length of signal in seconds\n",
    "#t = ...                          # time vector in seconds\n",
    "\n",
    "# sine signal of frequency f\n",
    "#f = ???                          # frequency in hertz\n",
    "#sig1 = np.sin(2*np.pi*f*t)       # sine wave signal\n",
    "\n",
    "# plot\n",
    "# ...\n",
    "\n",
    "# playback\n",
    "# ..."
   ]
  },
  {
   "cell_type": "markdown",
   "id": "bb9e5d4b",
   "metadata": {},
   "source": [
    "## Superposition\n",
    "\n",
    "<br>\n",
    "<div style=\"border: 2px solid #999; padding: 10px; background: #eee;\">\n",
    "    \n",
    "**Task 3:**\n",
    "    \n",
    "Generate two sinus functions of different frequency $f_1$ and $f_2$. \n",
    "    \n",
    "Diplay both signals and the sum using the `subplot` command.\n",
    "    \n",
    "Play around with different frequencies. Add a phase to the sine argument and play around with different phases.\n",
    "</div>"
   ]
  },
  {
   "cell_type": "code",
   "execution_count": 3,
   "id": "408e522a",
   "metadata": {},
   "outputs": [],
   "source": [
    "# put your code here \n"
   ]
  },
  {
   "cell_type": "markdown",
   "id": "ce4e1251",
   "metadata": {},
   "source": [
    "## Decibels\n",
    "\n",
    "\n",
    "<br>\n",
    "<div style=\"border: 2px solid #999; padding: 10px; background: #eee;\">\n",
    "    \n",
    "**Task 4:**\n",
    "    \n",
    "Plot the speech signal loaded above in dB scale.\n",
    "</div>"
   ]
  },
  {
   "cell_type": "code",
   "execution_count": null,
   "id": "57b61e1c",
   "metadata": {},
   "outputs": [],
   "source": [
    "# put your code here "
   ]
  }
 ],
 "metadata": {
  "kernelspec": {
   "display_name": "Python 3",
   "language": "python",
   "name": "python3"
  },
  "language_info": {
   "codemirror_mode": {
    "name": "ipython",
    "version": 3
   },
   "file_extension": ".py",
   "mimetype": "text/x-python",
   "name": "python",
   "nbconvert_exporter": "python",
   "pygments_lexer": "ipython3",
   "version": "3.8.3"
  }
 },
 "nbformat": 4,
 "nbformat_minor": 5
}
