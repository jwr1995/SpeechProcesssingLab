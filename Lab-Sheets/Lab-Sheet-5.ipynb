{
 "cells": [
  {
   "cell_type": "markdown",
   "id": "6cad7ab8",
   "metadata": {},
   "source": [
    "# Lab Sheet 5 (COM3502-4502-6502 Speech Processing)"
   ]
  },
  {
   "cell_type": "markdown",
   "id": "a0a5d729",
   "metadata": {},
   "source": [
    "This lab sheet is part of the lecture COM[3502](http://www.dcs.shef.ac.uk/intranet/teaching/public/modules/level3/com3502.html \"Open web page for COM3502 module\")-[4502](http://www.dcs.shef.ac.uk/intranet/teaching/public/modules/level4/com4502.html \"Open web page for COM4502 module\")-[6502](http://www.dcs.shef.ac.uk/intranet/teaching/public/modules/msc/com6502.html \"Open web page for COM4502 module\") Speech Processing at the [University of Sheffield](https://www.sheffield.ac.uk/ \"Open web page of The University of Sheffield\"), Dept. of [Computer Science](https://www.sheffield.ac.uk/dcs \"Open web page of Department of Computer Science, University of Sheffield\")."
   ]
  },
  {
   "cell_type": "markdown",
   "id": "1f88f306",
   "metadata": {},
   "source": [
    "It is probably easiest to open this Jupyter Notebook with [Google Colab](https://colab.research.google.com/notebooks/intro.ipynb#recent=true \"Open in Google Colab\") since GitHub's Viewer does not always show all details correctly. <a href=\"https://colab.research.google.com/github/sap-shef/SpeechProcesssingLab/blob/main/Lab-Sheets/Lab-Sheet-5.ipynb\"><img align=\"right\" src=\"https://colab.research.google.com/assets/colab-badge.svg\" alt=\"Open Notebook in Google Colab\" title=\"Open and Execute the Notebook directly in Google Colaboratory\"></a>\n",
    "\n",
    "Please put questions, comments and correction suggestions in the [Blackboard](https://vle.shef.ac.uk) discussion board or send an email to [s.goetze@sheffield.ac.uk](mailto:s.goetze@sheffield.ac.uk)."
   ]
  },
  {
   "cell_type": "code",
   "execution_count": null,
   "id": "b378ed8c",
   "metadata": {},
   "outputs": [],
   "source": [
    "# Let's do the ususal necessary and nice-to-have imports\n",
    "%matplotlib inline\n",
    "import matplotlib.pyplot as plt  # plotting\n",
    "import seaborn as sns; sns.set() # styling ((un-)comment if you want)\n",
    "import numpy as np               # math"
   ]
  },
  {
   "cell_type": "markdown",
   "id": "072aaa85",
   "metadata": {},
   "source": [
    "Let's download a wave file containing speech:"
   ]
  },
  {
   "cell_type": "code",
   "execution_count": null,
   "id": "95084077",
   "metadata": {},
   "outputs": [],
   "source": [
    "# download speech and noise example files\n",
    "s_file_name = 'speech_8kHz_murder.wav'\n",
    "!curl https://staffwww.dcs.shef.ac.uk/people/S.Goetze/sound/{s_file_name} -o {s_file_name} "
   ]
  },
  {
   "cell_type": "markdown",
   "id": "b5715f4f",
   "metadata": {},
   "source": [
    "As done before several time by now, we can load it to a variable and play it back (if we like)."
   ]
  },
  {
   "cell_type": "code",
   "execution_count": null,
   "id": "f41361b0",
   "metadata": {},
   "outputs": [],
   "source": [
    "import soundfile as sf\n",
    "from IPython import display as ipd\n",
    "\n",
    "# load speech wave into variable\n",
    "s, fs = sf.read(s_file_name)\n",
    "\n",
    "print('File \"' + s_file_name + '\" loaded. Its sampling rate is ' + str(fs) + ' Hz.')\n",
    "\n",
    "# listen to the sound file (if you want)\n",
    "ipd.Audio(s, rate=fs)"
   ]
  },
  {
   "cell_type": "markdown",
   "id": "adce0096",
   "metadata": {},
   "source": [
    "## Spectrogram\n",
    "\n",
    "The spectrogram can be used to visualise time and frequency information at the same time."
   ]
  },
  {
   "cell_type": "markdown",
   "id": "69a6f2db",
   "metadata": {},
   "source": [
    "### Frequency Resolution vs. Time Resolution"
   ]
  },
  {
   "cell_type": "markdown",
   "id": "cbd90117",
   "metadata": {},
   "source": [
    "The `specgram()` command from `matplotlib` has an optional parameter for the FFT length. Have a look at the [documentation](https://matplotlib.org/stable/api/_as_gen/matplotlib.pyplot.specgram.html) to familarise yourself with the parameters.\n",
    "\n",
    "<br>\n",
    "<div style=\"border: 2px solid #999; padding: 10px; background: #eee;\">\n",
    "    \n",
    "**Task 1:**\n",
    "    \n",
    "Create spectrograms of the speech signal `s` in different spectral and temporal resolution varying the parameters `NFFT` and `noverlap` of `matplotlib`'s `specgram()` command. \n",
    "    \n",
    "</div>"
   ]
  },
  {
   "cell_type": "code",
   "execution_count": null,
   "id": "68405b1e",
   "metadata": {},
   "outputs": [],
   "source": [
    "# your code here\n",
    "# ...\n"
   ]
  },
  {
   "cell_type": "markdown",
   "id": "bf043bcd",
   "metadata": {},
   "source": [
    "## Filtering by Piecewise Linear Filters\n",
    "\n",
    "We want to design digital filters in the following as depited below:\n",
    "\n",
    "<img src=\"https://staffwww.dcs.shef.ac.uk/people/S.Goetze/book/Chp2Fundamentals/images/FilteringIIRfilter-web.svg\" align=\"center\"/>\n",
    "\n",
    "\n",
    "This can be described mathematically by the difference equation for recursive filters \n",
    "\n",
    "\\begin{equation}\n",
    "y[k] = \\sum_{m=0}^{q} b_m \\; x[k-m] + \\sum_{n=1}^{p} a_n \\; y[k-n].\n",
    "\\end{equation}\n",
    "\n",
    "\n",
    "### Tolerance Scheme\n",
    "\n",
    "We want to design a piece-wise linear filter, such as a low-pass, band-pass, high-pass or similar, such filter shall at least fullfill the following conditions\n",
    "\n",
    "*   It should be 1 or close to one in the pass-band area\n",
    "*   It should be zero or close to zero in the stop band area\n",
    "\n",
    "The following function `plot_tolerance_scheme()` is a helper function which visualises such a tolerance scheme. \n",
    "\n",
    "The following conditions are visualised in the tolerance scheme below for the exmample values $\\omega_p=0.25$, $\\omega_s=0.3$, and allowing for 10% ripples both in stop band area as in pass band area. The allowed tolerance is the pass-band area is defined by the parameter `Rp_lin`, and allowed tolerance is the stop-band area by `Rs_lin`. Please note, that they have the ending `..._lin` since we will need these quantities later in logarithmic scaling (we will care for this then). "
   ]
  },
  {
   "cell_type": "code",
   "execution_count": null,
   "id": "d81c4cc1",
   "metadata": {},
   "outputs": [],
   "source": [
    "def plot_tolerance_scheme(wp=0.25,ws=0.3,Rp_lin=0.9,Rs_lin=0.1):\n",
    "    ''' plot limits '''\n",
    "    dh1x=[0,ws];  dh1y=[1,1];     \n",
    "    dh2x=[0,wp];  dh2y=[Rp_lin,Rp_lin]; \n",
    "    dv2x=[wp,wp]; dv2y=[0,Rp_lin];   \n",
    "    sh1x=[ws,1];  sh1y=[Rs_lin,Rs_lin]; \n",
    "    sh2x=[wp,1];  sh2y=[0,0]; \n",
    "    svx=[ws,ws];  svy=[Rs_lin,1];  \n",
    "    plt.plot(dh1x,dh1y,'k--',dh2x,dh2y,'k--',dv2x,dv2y,'k--',sh1x,sh1y,'k--',\n",
    "             sh2x,sh2y,'k--',svx,svy,'k--');\n",
    "    plt.xlabel('Frequency $\\Omega/\\pi$');"
   ]
  },
  {
   "cell_type": "code",
   "execution_count": null,
   "id": "e3082d5b",
   "metadata": {},
   "outputs": [],
   "source": [
    "wp=0.25;    # passband edge frequency \n",
    "ws=0.3;     # stopband edge frequency \n",
    "Rp_lin=0.9; # allowed ripples in the pass band area\n",
    "Rs_lin=0.1; # allowed ripples in the stop band area\n",
    "\n",
    "plot_tolerance_scheme()"
   ]
  },
  {
   "cell_type": "markdown",
   "id": "5f65ab4e",
   "metadata": {},
   "source": [
    "Please note that the low pass tolerance scheme is given in terms of normalised frequency $\\Omega$.\n",
    "\n",
    "<br>\n",
    "<div style=\"border: 2px solid #999; padding: 10px; background: #eee;\">\n",
    "    \n",
    "**Task 2:**\n",
    "\n",
    "Generate a tolerance scheme for a low-pass which should let pass half of the frequency region between $f=0$ and $f_{\\mathrm{max}}=4000$ Hz and allows ripples of $5 \\%$ as well for pass-band as in stop-band.\n",
    "    \n",
    "</div>"
   ]
  },
  {
   "cell_type": "code",
   "execution_count": null,
   "id": "a15e19ef",
   "metadata": {},
   "outputs": [],
   "source": [
    "# your code here\n",
    "#\n",
    "# ..."
   ]
  },
  {
   "cell_type": "markdown",
   "id": "24927828",
   "metadata": {},
   "source": [
    "### Zero-Pole Plot (Transfer Functuon of Filters in z-Domain)\n",
    "\n",
    "Applying a $z$-transform to the difference equation $z$-domain transfer function $H(z)$ of the filter leads to\n",
    "\n",
    "\\begin{equation}\n",
    "H(z) = \\frac{Y(z)}{X(z)} = \\frac{\\sum_{m=0}^{M} b_m \\, z^{-m}}{\\sum_{n=0}^{N} a_n \\, z^{-n}}\n",
    "\\end{equation}\n",
    "\n",
    "The transfer function can also be extpressed in term of the positions of its $P$ zeros $z_{0,\\mu}$, ($1 \\leq \\mu \\leq P$) and  its $Q$ poles $z_{\\infty,\\nu}$, ($1 \\leq \\nu \\leq Q$). \n",
    "\n",
    "\n",
    "\\begin{equation}\n",
    "H(z) = \\frac{b_M}{a_N} \\cdot \\frac{\\prod_{\\mu=1}^{P} (z - z_{0,\\mu})^{m_\\mu}}{\\prod_{\\nu=1}^{Q} (z - z_{\\infty,\\nu})^{n_\\nu}}\n",
    "\\end{equation}\n",
    "\n",
    "For speech and audio processing, systems often have real-valued coefficients $b_m\\in\\mathbb{R}$ and $a_n\\in\\mathbb{R}$ which results in a real-valued system. For real-valued systems, poles and zeros are either real valued or occur in complex conjugate pairs.\n",
    "\n",
    "For the poles of a *causal* and *stable* system $H(z)$ all poles have to lie within the unit circle, i.e. $|z| = 1$. "
   ]
  },
  {
   "cell_type": "code",
   "execution_count": null,
   "id": "ed07c44e",
   "metadata": {},
   "outputs": [],
   "source": [
    "def zplane(z, p, title='Poles and Zeros'):\n",
    "    \"Plots zeros and poles in the complex z-plane\"\n",
    "    ax = plt.gca()\n",
    "\n",
    "    ax.plot(np.real(z), np.imag(z), 'bo', fillstyle='none', ms=10)\n",
    "    ax.plot(np.real(p), np.imag(p), 'rx', fillstyle='none', ms=10)\n",
    "    unit_circle = plt.Circle((0, 0), radius=1, fill=False,\n",
    "                             color='black', ls='--', alpha=0.9)\n",
    "    ax.add_patch(unit_circle)\n",
    "\n",
    "    plt.title(title)\n",
    "    plt.xlabel('Re{$z$}')\n",
    "    plt.ylabel('Im{$z$}')\n",
    "    plt.axis('equal')"
   ]
  },
  {
   "cell_type": "markdown",
   "id": "92618066",
   "metadata": {},
   "source": [
    "The code below exemplarily shows two (comjugate complex) zeros at positions $z_{0,1}= -0.9$ and $z_{0,2} = 0.8$ (indicated by the blue circles) as well as a poles at positions $z_{\\infty,1}=0.5 + 0.5j$ and $z_{\\infty,2}=0.5 - 0.5j$ (indicated by the red crosses)  in the $z$ plane. The code above is a helper-function to plot the zeros and poles."
   ]
  },
  {
   "cell_type": "code",
   "execution_count": null,
   "id": "de7530c6",
   "metadata": {},
   "outputs": [],
   "source": [
    "poles = [0.5-0.5j, 0.5+0.5j] # two (comjugate complex) poles\n",
    "zeros = [-0.9, 0.8]          # two (real-valued) zeros\n",
    "zplane(zeros,poles)"
   ]
  },
  {
   "cell_type": "markdown",
   "id": "7a246d2f",
   "metadata": {},
   "source": [
    "### Butterworth Filter Design"
   ]
  },
  {
   "cell_type": "code",
   "execution_count": null,
   "id": "8634c4c0",
   "metadata": {},
   "outputs": [],
   "source": [
    "from scipy import signal         # filter designs"
   ]
  },
  {
   "cell_type": "code",
   "execution_count": null,
   "id": "6c0aa87d",
   "metadata": {},
   "outputs": [],
   "source": [
    "# the ripple hights in dB are needed in later cells of this Jupyter Notebook \n",
    "Rp=-20*np.log10(Rp_lin);  # max passband ripple in dB\n",
    "Rs=-20*np.log10(Rs_lin);  # min stopband attenuation in dB"
   ]
  },
  {
   "cell_type": "code",
   "execution_count": null,
   "id": "d02da772",
   "metadata": {},
   "outputs": [],
   "source": [
    "# get lowest filter order N to fullfill requirements above\n",
    "N, Wn = signal.buttord(wp, ws, Rp, Rs)\n",
    "# design low-pass filter of order N using butterworth method\n",
    "b, a = signal.butter(N, Wn, 'low')\n",
    "\n",
    "h=np.abs(np.fft.fft(b,1024))/np.abs(np.fft.fft(a,1024));\n",
    "h=h[0:513] # only show first half (positive frequencies)\n",
    "omega=np.linspace(0,1,513)\n",
    "\n",
    "# plot frequency response\n",
    "plot_tolerance_scheme()\n",
    "plt.plot(omega, abs(h), lw=2)\n",
    "plt.title('Butterworth low-pass filter of order ' + str(N))\n",
    "plt.ylabel('Amplitude $|h(e^{j \\Omega})|$');"
   ]
  },
  {
   "cell_type": "markdown",
   "id": "19d3253f",
   "metadata": {},
   "source": [
    "The complex potions of the poles and zeros can be calculated using numpy's function `root()`. "
   ]
  },
  {
   "cell_type": "code",
   "execution_count": null,
   "id": "b62a7028",
   "metadata": {},
   "outputs": [],
   "source": [
    "# plot zeros and poles in the z plane\n",
    "zplane(-1, np.roots(a))\n",
    "plt.text(-0.95,0.1,'(15)');"
   ]
  },
  {
   "cell_type": "markdown",
   "id": "c08479a1",
   "metadata": {},
   "source": [
    "<br>\n",
    "<div style=\"border: 2px solid #999; padding: 10px; background: #eee;\">\n",
    "    \n",
    "**Task 3:**\n",
    "    \n",
    "Create a butterwort filter fullfilling the tolerance scheme created for Task 2.\n",
    "    \n",
    "</div>"
   ]
  },
  {
   "cell_type": "code",
   "execution_count": null,
   "id": "42ba2ab8",
   "metadata": {},
   "outputs": [],
   "source": [
    "# your code here\n",
    "#\n",
    "# ..."
   ]
  },
  {
   "cell_type": "markdown",
   "id": "a6999c76",
   "metadata": {},
   "source": [
    "<br>\n",
    "<div style=\"border: 2px solid #999; padding: 10px; background: #eee;\">\n",
    "    \n",
    "**Task 4:**\n",
    "    \n",
    "Apply the filter you designed using the function `signal.filtfilt()`. Visualise the signal before and after filtering and plot the spectra.\n",
    "    \n",
    "</div>"
   ]
  },
  {
   "cell_type": "code",
   "execution_count": null,
   "id": "d7890383",
   "metadata": {},
   "outputs": [],
   "source": [
    "# your code here\n",
    "#\n",
    "# ..."
   ]
  },
  {
   "cell_type": "markdown",
   "id": "82e1dc5f",
   "metadata": {},
   "source": [
    "### Chebyshev I and Chebyshev II filter design\n",
    "\n",
    "Chebyshev filter designs make better use of the tolerance scheme by allowing for ripples in the pass band (Chebyshev I filter design) or stop band (Chebyshev II filter design), respectively. By this, the number of necessary filter coefficients $N$ can be reduced in comparison to the Butterworth filter.\n",
    "\n",
    "\n",
    "<br>\n",
    "<div style=\"border: 2px solid #999; padding: 10px; background: #eee;\">\n",
    "    \n",
    "**Task 5:**\n",
    "    \n",
    "Design a Chebyshev I and Chebyshev II filter. You might find the functions `signal.cheb1ord`, `signal.cheby2`, `signal.cheb1ord` and `signal.cheby2` helpful for this.\n",
    "    \n",
    "</div>"
   ]
  },
  {
   "cell_type": "code",
   "execution_count": null,
   "id": "eeccf419",
   "metadata": {},
   "outputs": [],
   "source": [
    "# your code here\n",
    "#\n",
    "# ..."
   ]
  },
  {
   "cell_type": "markdown",
   "id": "0f228994",
   "metadata": {},
   "source": [
    "### Cauer Filter a.k.a. Elliptical Filter Design\n",
    "\n",
    "<br>\n",
    "<div style=\"border: 2px solid #999; padding: 10px; background: #eee;\">\n",
    "    \n",
    "**Task 6:**\n",
    "    \n",
    "Design a Cauer filter. You might find the functions `signal.ellipord` and `signal.ellip` helpful for this.\n",
    "</div>\n"
   ]
  },
  {
   "cell_type": "code",
   "execution_count": null,
   "id": "2d7f0419",
   "metadata": {},
   "outputs": [],
   "source": [
    "# your code here\n",
    "#\n",
    "# ..."
   ]
  },
  {
   "cell_type": "markdown",
   "id": "3fa9e616",
   "metadata": {},
   "source": [
    "### Band pass and plotting in dB\n",
    "\n",
    "Filters (especially for processing speech or music) are usually not only designed with logarithmic amplitude in mind, but also plotted with linear amplitude."
   ]
  },
  {
   "cell_type": "code",
   "execution_count": null,
   "id": "f1bd0760",
   "metadata": {},
   "outputs": [],
   "source": [
    "N, Wn = signal.buttord([20, 50], [14, 60], 3, 40, True)\n",
    "b, a = signal.butter(N, Wn, 'band', True)\n",
    "w, h = signal.freqs(b, a, np.logspace(1, 2, 500))\n",
    "plt.semilogx(w, 20 * np.log10(abs(h)))\n",
    "plt.title('Butterworth bandpass filter fit to constraints')\n",
    "plt.xlabel('Frequency [radians / second]')\n",
    "plt.ylabel('Amplitude [dB]')\n",
    "plt.grid(which='both', axis='both')\n",
    "plt.fill([1,  14,  14,   1], [-40, -40, 99, 99], '0.7', lw=0) # stop\n",
    "plt.fill([20, 20,  50,  50], [-99, -3, -3, -99], '0.7', lw=0) # pass\n",
    "plt.fill([60, 60, 1e9, 1e9], [99, -40, -40, 99], '0.7', lw=0) # stop\n",
    "plt.axis([10, 100, -60, 3]);"
   ]
  },
  {
   "cell_type": "markdown",
   "id": "f77efae5",
   "metadata": {},
   "source": [
    "<br>\n",
    "<div style=\"border: 2px solid #999; padding: 10px; background: #eee;\">\n",
    "    \n",
    "**Task 7:**\n",
    "    \n",
    "Filter the signal by the bandpass designed above and listen to it. Again, you could visualise what you hear by using the spectrogram.\n",
    "    \n",
    "</div>"
   ]
  },
  {
   "cell_type": "code",
   "execution_count": null,
   "id": "73665ae6",
   "metadata": {},
   "outputs": [],
   "source": [
    "# your code here\n",
    "#\n",
    "# ..."
   ]
  },
  {
   "cell_type": "markdown",
   "id": "d3561c0f",
   "metadata": {},
   "source": [
    "## Copyright\n",
    "\n",
    "This notebook is licensed to be used during the lecture COM[3502](http://www.dcs.shef.ac.uk/intranet/teaching/public/modules/level3/com3502.html \"Open web page for COM3502 module\")-[4502](http://www.dcs.shef.ac.uk/intranet/teaching/public/modules/level4/com4502.html \"Open web page for COM4502 module\")-[6502](http://www.dcs.shef.ac.uk/intranet/teaching/public/modules/msc/com6502.html \"Open web page for COM4502 module\") Speech Processing at the [University of Sheffield](https://www.sheffield.ac.uk/ \"Open web page of The University of Sheffield\"), Dept. of [Computer Science](https://www.sheffield.ac.uk/dcs \"Open web page of Department of Computer Science, University of Sheffield\"). Any further use (beyond use for the lecture) is only permitted if agreed with the [module lead](mailto:s.goetze@sheffield.ac.uk). "
   ]
  }
 ],
 "metadata": {
  "kernelspec": {
   "display_name": "Python 3 (ipykernel)",
   "language": "python",
   "name": "python3"
  },
  "language_info": {
   "codemirror_mode": {
    "name": "ipython",
    "version": 3
   },
   "file_extension": ".py",
   "mimetype": "text/x-python",
   "name": "python",
   "nbconvert_exporter": "python",
   "pygments_lexer": "ipython3",
   "version": "3.8.3"
  }
 },
 "nbformat": 4,
 "nbformat_minor": 5
}
