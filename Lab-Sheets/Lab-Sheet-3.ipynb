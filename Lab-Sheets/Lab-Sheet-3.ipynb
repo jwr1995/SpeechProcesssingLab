{
 "cells": [
  {
   "cell_type": "markdown",
   "id": "fe19becb",
   "metadata": {},
   "source": [
    "# Lab Sheet 3 (COM3502-4502-6502 Speech Processing)"
   ]
  },
  {
   "cell_type": "markdown",
   "id": "d0ffed53",
   "metadata": {},
   "source": [
    "This lab sheet is part of the lecture COM[3502](http://www.dcs.shef.ac.uk/intranet/teaching/public/modules/level3/com3502.html \"Open web page for COM3502 module\")-[4502](http://www.dcs.shef.ac.uk/intranet/teaching/public/modules/level4/com4502.html \"Open web page for COM4502 module\")-[6502](http://www.dcs.shef.ac.uk/intranet/teaching/public/modules/msc/com6502.html \"Open web page for COM4502 module\") Speech Processing at the [University of Sheffield](https://www.sheffield.ac.uk/ \"Open web page of The University of Sheffield\"), Dept. of [Computer Science](https://www.sheffield.ac.uk/dcs \"Open web page of Department of Computer Science, University of Sheffield\")."
   ]
  },
  {
   "cell_type": "markdown",
   "id": "dd3d49cb",
   "metadata": {},
   "source": [
    "It is probably easiest to open this Jupyter Notebook with [Google Colab](https://colab.research.google.com/notebooks/intro.ipynb#recent=true \"Open in Google Colab\") since GitHub's Viewer does not always show all details correctly. <a href=\"https://colab.research.google.com/github/sap-shef/SpeechProcesssingLab/blob/main/Lab-Sheets/Lab-Sheet-3.ipynb\"><img align=\"right\" src=\"https://colab.research.google.com/assets/colab-badge.svg\" alt=\"Open Notebook in Google Colab\" title=\"Open and Execute the Notebook directly in Google Colaboratory\"></a>\n",
    "\n",
    "Please put questions, comments and correction suggestions in the [Blackboard](https://vle.shef.ac.uk) discussion board or send an email to [s.goetze@sheffield.ac.uk](mailto:s.goetze@sheffield.ac.uk)."
   ]
  },
  {
   "cell_type": "code",
   "execution_count": 2,
   "id": "97f48ac4",
   "metadata": {},
   "outputs": [],
   "source": [
    "# Let's do the ususal necessary and nice-to-have imports\n",
    "%matplotlib inline\n",
    "import matplotlib.pyplot as plt  # plotting\n",
    "# import seaborn as sns; sns.set() # styling (uncomment if you want)\n",
    "import numpy as np               # math"
   ]
  },
  {
   "cell_type": "markdown",
   "id": "9661bc90",
   "metadata": {},
   "source": [
    "## Block Processing"
   ]
  },
  {
   "cell_type": "code",
   "execution_count": null,
   "id": "695dfd4a",
   "metadata": {},
   "outputs": [],
   "source": []
  },
  {
   "cell_type": "markdown",
   "id": "90c12f7a",
   "metadata": {},
   "source": [
    "## Short-term energy"
   ]
  },
  {
   "cell_type": "code",
   "execution_count": null,
   "id": "020ae6bb",
   "metadata": {},
   "outputs": [],
   "source": []
  },
  {
   "cell_type": "markdown",
   "id": "e90bf29a",
   "metadata": {},
   "source": [
    "## Zero-Crossing Rate"
   ]
  },
  {
   "cell_type": "code",
   "execution_count": null,
   "id": "1b655f30",
   "metadata": {},
   "outputs": [],
   "source": []
  },
  {
   "cell_type": "markdown",
   "id": "dfe7bfa4",
   "metadata": {},
   "source": [
    "## Correlation of two sequences\n",
    "\n",
    "Correlation describes a statistical relationship between data, in our case between speech signals which are viewed as (realisations of) processes. This means that correlation is a measurement of similarity:\n",
    "Two signals which are highly correlated (i.e., which have a strong statistical relationship) are similar to each other.\n",
    "\n",
    "The correlation between two signals $x[k]$ and $y[k]$ is defined as <sup>[[MW1]](https://mathworld.wolfram.com/StatisticalCorrelation.html)</sup>\n",
    "\n",
    "\\begin{equation}\n",
    "r_{xy} = \\frac{c_{xy}}{\\sigma_x \\sigma_y}\n",
    "\\end{equation}\n",
    "\n",
    "where $\\sigma_x$ and $\\sigma_y$ are the [standard deviations](https://en.wikipedia.org/wiki/Standard_deviation \"Definition of standard deviation on Wikipedia\") of the signals and $c_{xy}$ is the [covariance](https://en.wikipedia.org/wiki/Covariance \"Definition of covariance on Wikipedia\") between the two signals which can be estimated from the signals (please note that the hat ($\\hat{c}$) indicates that the quantity $c$ is estimated) by <sup>[[MW2]](https://mathworld.wolfram.com/Covariance.html)</sup>\n",
    "\n",
    "\\begin{equation}\n",
    "\\hat{c}_{xy} = \\frac{1}{L}\\sum_{k=1}^L (x[k]-\\bar{y})(y[k]-\\bar{y})\n",
    "\\end{equation}\n",
    "\n",
    "with the respective [(sample) mean](https://en.wikipedia.org/wiki/Sample_mean_and_covariance) values\n",
    "\n",
    "$$\\bar{x} = \\frac{1}{L}\\sum_{i=1}^L x[i],$$\n",
    "$$\\bar{y} = \\frac{1}{L}\\sum_{i=1}^L y[i].$$\n",
    "\n",
    "With estimates for the variances $\\hat{\\sigma}^2_x$ and $\\hat{\\sigma}^2_y$\n",
    "\n",
    "$$\\hat{\\sigma}_x^2 = \\frac{1}{L}\\sum_{i=1}^L (x[i]-\\bar{x})$$\n",
    "$$\\hat{\\sigma}_y^2 = \\frac{1}{L}\\sum_{i=1}^L (y[i]-\\bar{y})$$\n",
    "\n",
    "we obtain\n",
    "\n",
    "\\begin{equation}\n",
    "\\hat{r}_{xy} = \\frac{\\sum_{k=1}^L (x[k]-\\bar{x})(y[k]-\\bar{y})}{L \\cdot \\hat{\\sigma}_x \\hat{\\sigma}_y}.\n",
    "\\label{eq:defCorrelationEstWithMeanAndVariance}\\tag{1}\n",
    "\\end{equation}\n",
    "\n",
    "as an estimate of the correlation. If the means and standard deviations of the signals are $\\bar{x}=\\bar{y}=0$ and $\\hat{\\sigma}_x=\\hat{\\sigma}_y=1$, respectively, this simplifies to\n",
    "\\begin{equation}\n",
    "\\hat{r}_{xy} = \\frac{1}{L}\\sum_{k=1}^{L}x[k]y[k].\n",
    "\\label{eq:defCorrelationEst}\\tag{2}\n",
    "\\end{equation}\n",
    "\n",
    "<br>\n",
    "<div style=\"border: 2px solid #999; padding: 10px; background: #eee;\">\n",
    "    \n",
    "**Task 1: (already solved)**\n",
    "    \n",
    "Implement a second function `normalize_and_correlate` according to equation \\eqref{eq:defCorrelationEstWithMeanAndVariance} which ensures that the signals have mean of $0$ and standard deviation of $1$ by subtracting the former and dividing by the latter. Then the function `correlation` (which you are supposed to write / complete in Task 2) and return its value.\n",
    "    \n",
    "In the interest of time for this lab this task is already solved below. It should give us an example how to solve Task 2.\n",
    "</div>\n",
    "\n",
    "<br>\n",
    "<div style=\"border: 2px solid #999; padding: 10px; background: #eee;\">\n",
    "    \n",
    "**Task 2:**\n",
    "    \n",
    "Implement a function `correlation` according to equation \\eqref{eq:defCorrelationEst} which takes two signals and should return the correlation value, assuming both signals have mean $0$ and standard deviation $1$.\n",
    "</div>"
   ]
  },
  {
   "cell_type": "code",
   "execution_count": 10,
   "id": "2b5eff76",
   "metadata": {},
   "outputs": [],
   "source": [
    "def correlation(signal1, signal2):\n",
    "    \"\"\"Return the correlation value of two signals which are assumed to be normalized (mean 0, std 1).\"\"\"\n",
    "    # rxy_est =  ... # complete here\n",
    "    return rxy_est\n",
    "\n",
    "def normalize_and_correlate(signal1, signal2):\n",
    "    \"\"\"Return the correlation value of two signals after normalizing them.\"\"\"\n",
    "    return correlation(\n",
    "        ((signal1 - np.mean(signal1)) / np.std(signal1)),\n",
    "        ((signal2 - np.mean(signal2)) / np.std(signal2)),\n",
    "    )"
   ]
  },
  {
   "cell_type": "markdown",
   "id": "f4325678",
   "metadata": {},
   "source": [
    "The following function plots two signals, their element-wise multiplication and the resulting correlation value. The code is given as a helping function to understand the correlation. Nothing has to be changed in the code block below."
   ]
  },
  {
   "cell_type": "code",
   "execution_count": 11,
   "id": "6fc624fd",
   "metadata": {},
   "outputs": [],
   "source": [
    "def plot_correlation(signal1, signal2, title=\"\"):\n",
    "    # Ensure that both signals have the same number of samples\n",
    "    assert len(signal1) == len(signal2)\n",
    "    \n",
    "    # Ensure that the signals have both mean 0 and standard deviation 1\n",
    "    signal1 = (signal1 - np.mean(signal1)) / np.std(signal1)\n",
    "    signal2 = (signal2 - np.mean(signal2)) / np.std(signal2)\n",
    "    \n",
    "    multiplied_signals = signal1 * signal2\n",
    "    correlation_value = correlation(signal1, signal2)\n",
    "\n",
    "    y_max = max(np.max(np.abs(signal1)), np.max(np.abs(signal2)), np.max(np.abs(multiplied_signals)))\n",
    "    \n",
    "    #fig, axs = plt.subplots(3, figsize=(12, 6))\n",
    "    fig = plt.figure(figsize=(12, 6), constrained_layout=True)\n",
    "    fig.suptitle(title)\n",
    "\n",
    "    # Create grid for the different plots\n",
    "    gs = fig.add_gridspec(3, 10)\n",
    "\n",
    "    axs = [fig.add_subplot(gs[0, :-1]), fig.add_subplot(gs[1, :-1]), \n",
    "           fig.add_subplot(gs[2, :-1]), fig.add_subplot(gs[:,-1])]\n",
    "    \n",
    "    axs[0].plot(np.arange(len(signal1)), signal1, marker=\"o\", lw=0.1)\n",
    "    axs[1].plot(np.arange(len(signal2)), signal2, marker=\"o\", lw=0.1)\n",
    "    axs[2].plot(np.arange(len(multiplied_signals)), multiplied_signals, marker=\"o\", lw=0.1)\n",
    "    axs[3].axhline(0, color=\"black\", lw=0.5)\n",
    "    axs[3].axhline(correlation_value, lw=3)\n",
    "\n",
    "    axs[0].set_ylim(-y_max*1.1, y_max*1.1)\n",
    "    axs[1].set_ylim(-y_max*1.1, y_max*1.1)\n",
    "    axs[2].set_ylim(-y_max*1.1, y_max*1.1)\n",
    "    axs[2].set_ylim(-np.max(np.abs(multiplied_signals)) * 1.1, np.max(np.abs(multiplied_signals)) * 1.1)\n",
    "    axs[3].set_ylim(-1.01, 1.01)\n",
    "    axs[3].set_xticks([])\n",
    "    axs[0].get_xaxis().set_ticks([])\n",
    "    axs[0].set_ylabel(\"$x[t]$\")\n",
    "    axs[1].set_ylabel(\"$y[t]$\")\n",
    "    axs[2].set_ylabel(\"$x[t]\\cdot y[t]$\")\n",
    "    axs[1].get_xaxis().set_ticks([])\n",
    "    axs[2].set_xlabel(\"time in samples\")\n",
    "    axs[0].title.set_text(\"The first signal $x[t]$\")\n",
    "    axs[1].title.set_text(\"The second signal $y[t]$\")\n",
    "    axs[2].title.set_text(\"Element-wise multiplication of both signals\")\n",
    "    axs[3].title.set_text(\"Correlation: {:.2f}\".format(correlation_value))"
   ]
  },
  {
   "cell_type": "markdown",
   "id": "a80ef167",
   "metadata": {},
   "source": [
    "### Examples - Correlation of two sequences\n",
    "\n",
    "We can check the correlation of different signals:\n",
    "1. Correlation of a (sine) signal with itself.\n",
    "2. Correlation of a sine wave with a sine wave shifted by $\\pi$.\n",
    "3. Correlation of two white noise signals.\n",
    "\n",
    "#### Correlation of a (sine) signal with itself"
   ]
  },
  {
   "cell_type": "code",
   "execution_count": null,
   "id": "9e847a5b",
   "metadata": {},
   "outputs": [],
   "source": [
    "signal1 = np.sin(np.linspace(0, 4*np.pi, 40))\n",
    "plot_correlation(signal1, signal1, \"A signal is highly correlated with itself\")"
   ]
  },
  {
   "cell_type": "markdown",
   "id": "0f18e27e",
   "metadata": {},
   "source": [
    "#### Correlation of a sine wave with a sine wave shifted by $\\pi$."
   ]
  },
  {
   "cell_type": "code",
   "execution_count": null,
   "id": "af49c89f",
   "metadata": {},
   "outputs": [],
   "source": []
  },
  {
   "cell_type": "markdown",
   "id": "906f156d",
   "metadata": {},
   "source": [
    "#### Correlation of two white noise signals."
   ]
  },
  {
   "cell_type": "code",
   "execution_count": null,
   "id": "6c4c8ced",
   "metadata": {},
   "outputs": [],
   "source": []
  }
 ],
 "metadata": {
  "kernelspec": {
   "display_name": "Python 3 (ipykernel)",
   "language": "python",
   "name": "python3"
  },
  "language_info": {
   "codemirror_mode": {
    "name": "ipython",
    "version": 3
   },
   "file_extension": ".py",
   "mimetype": "text/x-python",
   "name": "python",
   "nbconvert_exporter": "python",
   "pygments_lexer": "ipython3",
   "version": "3.8.3"
  }
 },
 "nbformat": 4,
 "nbformat_minor": 5
}
