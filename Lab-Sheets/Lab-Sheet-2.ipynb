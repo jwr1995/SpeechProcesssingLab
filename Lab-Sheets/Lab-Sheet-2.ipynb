{
 "cells": [
  {
   "cell_type": "markdown",
   "id": "dee102d7",
   "metadata": {},
   "source": [
    "# Lab Sheet 2 (COM3502-4502-6502 Speech Processing)"
   ]
  },
  {
   "cell_type": "markdown",
   "id": "f28a56fe",
   "metadata": {},
   "source": [
    "This lab sheet is part of the lecture COM[3502](http://www.dcs.shef.ac.uk/intranet/teaching/public/modules/level3/com3502.html \"Open web page for COM3502 module\")-[4502](http://www.dcs.shef.ac.uk/intranet/teaching/public/modules/level4/com4502.html \"Open web page for COM4502 module\")-[6502](http://www.dcs.shef.ac.uk/intranet/teaching/public/modules/msc/com6502.html \"Open web page for COM4502 module\") Speech Processing at the [University of Sheffield](https://www.sheffield.ac.uk/ \"Open web page of The University of Sheffield\"), Dept. of [Computer Science](https://www.sheffield.ac.uk/dcs \"Open web page of Department of Computer Science, University of Sheffield\")."
   ]
  },
  {
   "cell_type": "markdown",
   "id": "51725272",
   "metadata": {},
   "source": [
    "It is probably easiest to open this Jupyter Notebook with [Google Colab](https://colab.research.google.com/notebooks/intro.ipynb#recent=true \"Open in Google Colab\") since GitHub's Viewer does not show all details correctly. <a href=\"https://colab.research.google.com/github/sap-shef/SpeechProcesssingLab/blob/main/Lab-Sheets/Lab-Sheet-1.ipynb\"><img align=\"right\" src=\"https://colab.research.google.com/assets/colab-badge.svg\" alt=\"Open Notebook in Google Colab\" title=\"Open and Execute the Notebook directly in Google Colaboratory\"></a>\n",
    "\n",
    "Please put questions, comments and correction suggestions in the [Blackboard](https://vle.shef.ac.uk) discussion board or send an email to [s.goetze@sheffield.ac.uk](mailto:s.goetze@sheffield.ac.uk)."
   ]
  },
  {
   "cell_type": "code",
   "execution_count": null,
   "id": "f80929e0",
   "metadata": {},
   "outputs": [],
   "source": [
    "# Let's do some necessary and nice-to-have imports\n",
    "%matplotlib inline\n",
    "import matplotlib.pyplot as plt  # plotting\n",
    "import seaborn as sns; sns.set() # styling\n",
    "import numpy as np               # math"
   ]
  },
  {
   "cell_type": "markdown",
   "id": "1b40966a",
   "metadata": {},
   "source": [
    "## Generate sine wave\n",
    "\n",
    "We are already familiar with generating sine signals from last lab sheet. \n",
    "\n",
    "<br>\n",
    "<div style=\"border: 2px solid #999; padding: 10px; background: #eee;\">\n",
    "    \n",
    "**Task 1:**\n",
    "    \n",
    "Please write a function `get_sine_wave(frequency_hz, length_s, sample_rate_hz)` which returns a sine wave with the given frequency and duration at the desired sample rate.  \n",
    "</div>\n",
    "\n"
   ]
  },
  {
   "cell_type": "code",
   "execution_count": 3,
   "id": "42065eb0",
   "metadata": {},
   "outputs": [],
   "source": [
    "def get_sine_wave(frequency_hz, length_s=1, sample_rate_hz=8000):\n",
    "    \"\"\"\n",
    "    Return a sine wave with given parameters.\n",
    "    \n",
    "    Parameters\n",
    "    ----------\n",
    "    frequency_hz : float\n",
    "        frequency $f$ of the sinus to be generated \n",
    "    length_s : float, optional\n",
    "        length of the sine signal to be generated, default: 1 sec.\n",
    "    sample_rate_hz : float, optional\n",
    "        sampling frequency $f_s$ in Hz, default: 8000 Hz\n",
    "\n",
    "    Returns\n",
    "    -------\n",
    "    signal\n",
    "        generated sinus signal\n",
    "    \"\"\"\n",
    "    \n",
    "    # your code here\n",
    "    \n",
    "    #return ... # let the function return the sinus signal"
   ]
  },
  {
   "cell_type": "markdown",
   "id": "dfae0cfa",
   "metadata": {},
   "source": [
    "Typical samples rates are 8000 Hz or 16000 Hz for speech signals and 22050 Hz, 44100 Hz or 48000 Hz for music. We will now use a sample rate of **8000 Hz**.\n",
    "\n",
    "Audible sound is roughly in the range of 20 Hz to 20 000 Hz. The so called [concert pitch](https://en.wikipedia.org/wiki/Concert_pitch \"Open Wikipedia for more information on Concert Pitch\") is at 440 Hz.\n",
    "We now want to generate a 2 second sine wave with concert pitch at the sample rate mentioned above and then look at a part of the generated signal to check that it actually resembles a sine wave."
   ]
  },
  {
   "cell_type": "code",
   "execution_count": 4,
   "id": "905e9909",
   "metadata": {},
   "outputs": [],
   "source": [
    "# please complete the following code:\n",
    "\n",
    "# concert_pitch = get_sine_wave(...\n",
    "\n",
    "# Look at the first 30 ms (240 / 8000 Hz = 0.03 s) of the generated wave\n",
    "#plt.plot(concert_pitch[:240])\n",
    "#plt.xlabel(...\n",
    "#plt.ylabel(...\n",
    "#plt.title(...\n",
    "None # This command does nothing but prevents printing the result of previous function call"
   ]
  },
  {
   "cell_type": "markdown",
   "id": "d9831746",
   "metadata": {},
   "source": [
    "We can concatenate signals to form a longer signal.\n",
    "As an example we want to create a new signal with half the concert pitch frequency (which we call `half_concert_pitch`) and then play it 2 times alternating with the concert pitch. `numpy`'s `np.concatenate(...)` might be useful for this task."
   ]
  },
  {
   "cell_type": "code",
   "execution_count": 5,
   "id": "bd549026",
   "metadata": {},
   "outputs": [],
   "source": [
    "# your code here\n",
    "# half_concert_pitch = get_sine_wave(...\n"
   ]
  },
  {
   "cell_type": "markdown",
   "id": "ccd4b0ec",
   "metadata": {},
   "source": [
    "Adding together two signals gives a signal where both frequencies can be heard.\n",
    "The resulting signal does not look like a sine wave anymore but we can still clearly see its periodicity.\n",
    "The periodicity is so promiment because one frequency is a multiple of the other.\n",
    "If this is not the case it can take much longer for the signal to repeat its pattern."
   ]
  },
  {
   "cell_type": "markdown",
   "id": "0a070878",
   "metadata": {},
   "source": [
    "## Play a song\n",
    "\n",
    "A simple additional feature we need to generate a song is a function to generate silence. The following function `get_silence` generates an array of 0-values of the desired length."
   ]
  },
  {
   "cell_type": "code",
   "execution_count": 1,
   "id": "3b37a196",
   "metadata": {},
   "outputs": [],
   "source": [
    "def get_silence(length_s, sample_rate_hz):\n",
    "    \"\"\"Return silence for the given length at the given sample rate.\"\"\"\n",
    "    return np.zeros(int(length_s * sample_rate_hz))"
   ]
  },
  {
   "cell_type": "markdown",
   "id": "f99b783c",
   "metadata": {},
   "source": [
    "By generating sine waves of different lengths and frequencies with `get_sine_wave` you are now able to play simple songs. \n",
    "\n",
    "The picture below shows the relation of musical notes to keys of a keyboard.\n",
    "\n",
    "\n",
    "<img src=\"notes-vs-keys.png\" alt=\"Relation between notes and keys of a keyboard.\" style=\"width: 600px;\"/>\n",
    "\n",
    "Given that we take the \n",
    "* [note A4](https://en.wikipedia.org/wiki/A_(musical_note)) is our reference point and is defined having a frequency of [440 Hz](https://en.wikipedia.org/wiki/A440_(pitch_standard)) and that \n",
    "* one [octave](https://en.wikipedia.org/wiki/Octave) means doubling the frequency and that the tones between two [tones A](https://en.wikipedia.org/wiki/A_(musical_note)) are linearly distributed.\n",
    "\n",
    "\n",
    "| note      |  A3  |  C4  |  D4  |  E4  |  F4  |  G4  |     A4  |  B4  |  C5  | ...  |\n",
    "| --------- | ---- | ---- | ---- | ---- | ---- | ---- | ------- | ---- | ---- | ---- |\n",
    "| $f$ in Hz |  220 |      |      |      |      |      | **440** |      |      | ...  |\n",
    "\n",
    "\n",
    "\n",
    "```python\n",
    "note_position = {\n",
    "\"C\": -9, \"C#\": -8, \"D\": -7, \"D#\": -6, \"E\": -5, \"F\": -4, \"F#\": -3, \"G\": -2, \"G#\": -1, \"A\": 0, \"A#\": 1, \"B\": 2,}\n",
    "```\n",
    "        \n",
    "        \n",
    "\n",
    "\\begin{equation}\n",
    "f = 440 * 2 ^{(\\mathrm{note-position} / 12) + (\\mathrm{octave} - 4)}\n",
    "\\end{equation}\n"
   ]
  },
  {
   "cell_type": "code",
   "execution_count": 4,
   "id": "70d1d554",
   "metadata": {},
   "outputs": [],
   "source": [
    "def create_tone(note, duration):\n",
    "    \n",
    "    tempo = 5\n",
    "\n",
    "    if note == \"Pause\":\n",
    "        return get_silence(length_s=duration*tempo, sample_rate_hz=8000)\n",
    "\n",
    "    note_position = {\n",
    "        \"C\": -9,\n",
    "        \"C#\": -8,\n",
    "        \"D\": -7,\n",
    "        \"D#\": -6,\n",
    "        \"E\": -5,\n",
    "        \"F\": -4,\n",
    "        \"F#\": -3,\n",
    "        \"G\": -2,\n",
    "        \"G#\": -1,\n",
    "        \"A\": 0,\n",
    "        \"A#\": 1,\n",
    "        \"B\": 2,\n",
    "    }\n",
    "\n",
    "    octave = int(note[-1])\n",
    "    key = note[:-1]\n",
    "\n",
    "    frequency_hz = 440 * 2 ** ((note_position[key] / 12) + (octave - 4))\n",
    "\n",
    "    return get_sine_wave(\n",
    "        frequency_hz=frequency_hz, length_s=duration*tempo, sample_rate_hz=8000\n",
    "    )"
   ]
  },
  {
   "cell_type": "markdown",
   "id": "abcd23cf",
   "metadata": {},
   "source": [
    "You are now ready to piece together a small piece of music.\n",
    "Look up which frequencies belong to which musical notes.\n",
    "Your reference should give 110 Hz for A2, 220 Hz for A3, 440 Hz for A4, and so on."
   ]
  },
  {
   "cell_type": "markdown",
   "id": "52f5f012",
   "metadata": {},
   "source": [
    "One part of the song (the *right hand*) is described by the following notes and pauses:\n",
    "\n",
    "![Piano](music-notes-begin.png)\n",
    "\n",
    "| note   |  E5  |  D#5 |  E5  |  D#5 |  E5  |  B4  |  D5  |  C5  |  A4  |  Pause  | ...  |\n",
    "| ------ | ---- | ---- | ---- | ---- | ---- | ---- | ---- | ---- | ---- | ------- | ---- |\n",
    "| length | 1/16 | 1/16 | 1/16 | 1/16 | 1/16 | 1/16 | 1/16 | 1/16 | 1/8  |  1/16   | ...  |\n",
    "\n",
    "\n",
    "    \n",
    "- E5 1/16, D#5 1/16\n",
    "- E5 1/16, D#5 1/16, E5 1/16, B4 1/16, D5 1/16, C5 1/16\n",
    "- A4 1/8, Pause 1/16, C4 1/16, E4 1/16, A4 1/16\n",
    "- B4 1/8, Pause 1/16, E4 1/16, G#4 1/16, B4 1/16\n",
    "- C4 1/8, Pause 1/16, E4 1/16, E5 1/16, D#5 1/16\n",
    "- E5 1/16, D#5 1/16, E5 1/16, B4 1/16, D5 1/16, C5 1/16\n",
    "- A4 1/8, Pause 1/16, C4 1/16, E4 1/16, A4 1/16\n",
    "- B4 1/8, Pause 1/16, E4 1/16, C5 1/16, B4 1/16\n",
    "- A4 1/4\n",
    "\n",
    "The other part (the *left hand*) is described as follows:\n",
    "- Pause 1/8\n",
    "- Pause 3/8\n",
    "- A2 1/16, E3 1/16, A3 1/16, Pause 3/16\n",
    "- E2 1/16, E3 1/16, G#3 1/16, Pause 3/16\n",
    "- A2 1/16, E3 1/16, B3 1/16, Pause 3/16\n",
    "- Pause 3/8\n",
    "- A2 1/16, E3 1/16, A3 1/16, Pause 3/16\n",
    "- E2 1/16, E3 1/16, G#3 1/16, Pause 3/16\n",
    "- A2 1/16, E3 1/16, B3 1/16, Pause 1/16\n"
   ]
  },
  {
   "cell_type": "markdown",
   "id": "b2b238c5",
   "metadata": {},
   "source": [
    "## Sampling Rate"
   ]
  },
  {
   "cell_type": "code",
   "execution_count": null,
   "id": "d8e31fdd",
   "metadata": {},
   "outputs": [],
   "source": []
  },
  {
   "cell_type": "markdown",
   "id": "0b1f96a2",
   "metadata": {},
   "source": [
    "## Quantisation"
   ]
  },
  {
   "cell_type": "code",
   "execution_count": null,
   "id": "c7d70f9d",
   "metadata": {},
   "outputs": [],
   "source": []
  },
  {
   "cell_type": "markdown",
   "id": "e0f034b2",
   "metadata": {},
   "source": [
    "Copyright"
   ]
  }
 ],
 "metadata": {
  "kernelspec": {
   "display_name": "Python 3 (ipykernel)",
   "language": "python",
   "name": "python3"
  },
  "language_info": {
   "codemirror_mode": {
    "name": "ipython",
    "version": 3
   },
   "file_extension": ".py",
   "mimetype": "text/x-python",
   "name": "python",
   "nbconvert_exporter": "python",
   "pygments_lexer": "ipython3",
   "version": "3.8.3"
  }
 },
 "nbformat": 4,
 "nbformat_minor": 5
}
