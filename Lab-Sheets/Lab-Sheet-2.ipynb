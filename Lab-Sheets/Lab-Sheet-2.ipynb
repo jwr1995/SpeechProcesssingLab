{
 "cells": [
  {
   "cell_type": "markdown",
   "id": "dee102d7",
   "metadata": {},
   "source": [
    "# Lab Sheet 2 (COM3502-4502-6502 Speech Processing)"
   ]
  },
  {
   "cell_type": "markdown",
   "id": "f28a56fe",
   "metadata": {},
   "source": [
    "This lab sheet is part of the lecture COM[3502](http://www.dcs.shef.ac.uk/intranet/teaching/public/modules/level3/com3502.html \"Open web page for COM3502 module\")-[4502](http://www.dcs.shef.ac.uk/intranet/teaching/public/modules/level4/com4502.html \"Open web page for COM4502 module\")-[6502](http://www.dcs.shef.ac.uk/intranet/teaching/public/modules/msc/com6502.html \"Open web page for COM4502 module\") Speech Processing at the [University of Sheffield](https://www.sheffield.ac.uk/ \"Open web page of The University of Sheffield\"), Dept. of [Computer Science](https://www.sheffield.ac.uk/dcs \"Open web page of Department of Computer Science, University of Sheffield\")."
   ]
  },
  {
   "cell_type": "markdown",
   "id": "51725272",
   "metadata": {},
   "source": [
    "It is probably easiest to open this Jupyter Notebook with [Google Colab](https://colab.research.google.com/notebooks/intro.ipynb#recent=true \"Open in Google Colab\") since GitHub's Viewer does not show all details correctly. <a href=\"https://colab.research.google.com/github/sap-shef/SpeechProcesssingLab/blob/main/Lab-Sheets/Lab-Sheet-1.ipynb\"><img align=\"right\" src=\"https://colab.research.google.com/assets/colab-badge.svg\" alt=\"Open Notebook in Google Colab\" title=\"Open and Execute the Notebook directly in Google Colaboratory\"></a>\n",
    "\n",
    "Please put questions, comments and correction suggestions in the [Blackboard](https://vle.shef.ac.uk) discussion board or send an email to [s.goetze@sheffield.ac.uk](mailto:s.goetze@sheffield.ac.uk)."
   ]
  },
  {
   "cell_type": "code",
   "execution_count": 27,
   "id": "f80929e0",
   "metadata": {},
   "outputs": [],
   "source": [
    "# Let's do some necessary and nice-to-have imports\n",
    "%matplotlib inline\n",
    "import matplotlib.pyplot as plt  # plotting\n",
    "import seaborn as sns; sns.set() # styling\n",
    "import numpy as np               # math"
   ]
  },
  {
   "cell_type": "markdown",
   "id": "1b40966a",
   "metadata": {},
   "source": [
    "## Generate sine wave\n",
    "\n",
    "We are already familiar with generating sine signals from last lab sheet. \n",
    "\n",
    "<br>\n",
    "<div style=\"border: 2px solid #999; padding: 10px; background: #eee;\">\n",
    "    \n",
    "**Task 1:**\n",
    "    \n",
    "Please write a function `get_sine_wave(frequency_hz, length_s, sample_rate_hz)` which returns a sine wave with the given frequency and duration at the desired sample rate.  \n",
    "</div>\n",
    "\n"
   ]
  },
  {
   "cell_type": "code",
   "execution_count": 28,
   "id": "42065eb0",
   "metadata": {},
   "outputs": [],
   "source": [
    "def get_sine_wave(frequency_hz, length_s=1, sample_rate_hz=8000):\n",
    "    \"\"\"\n",
    "    Return a sine wave with given parameters.\n",
    "    \n",
    "    Parameters\n",
    "    ----------\n",
    "    frequency_hz : float\n",
    "        frequency $f$ of the sinus to be generated \n",
    "    length_s : float, optional\n",
    "        length of the sine signal to be generated, default: 1 sec.\n",
    "    sample_rate_hz : float, optional\n",
    "        sampling frequency $f_s$ in Hz, default: 8000 Hz\n",
    "\n",
    "    Returns\n",
    "    -------\n",
    "    signal\n",
    "        generated sinus signal\n",
    "    \"\"\"\n",
    "    \n",
    "    # your code here\n",
    "    \n",
    "    #return ... # let the function return the sinus signal"
   ]
  },
  {
   "cell_type": "markdown",
   "id": "dfae0cfa",
   "metadata": {},
   "source": [
    "Typical samples rates are 8000 Hz or 16000 Hz for speech signals and 22050 Hz, 44100 Hz or 48000 Hz for music. We will now use a sample rate of **8000 Hz**. Further down in this lab sheet we will play around with sampling frequencies.\n",
    "\n",
    "Sound signls perceiveable by humans are roughly in the range of 20 Hz to 20 000 Hz (for older persons equcially the theoretical limit of 20 kHz is usually lower). The so called [concert pitch](https://en.wikipedia.org/wiki/Concert_pitch \"Open Wikipedia for more information on Concert Pitch\") is at 440 Hz.\n",
    "We now want to generate a 2 second sine wave with concert pitch at the sample rate mentioned above and then look at a part of the generated signal to check that it actually resembles a sine wave.\n",
    "\n",
    "<br>\n",
    "<div style=\"border: 2px solid #999; padding: 10px; background: #eee;\">\n",
    "    \n",
    "**Task 2:**\n",
    "    \n",
    "Generate and visualise the a concert pitch signal of 2 seconds, i.e. the sine signal of frequency $f=440$ Hz and listen to it. Plese note, that for visualising (plotting) you might want to only plot the first samples. The initial samples of a vector can be selected by `variable_name[0:number_of_samples]` or shorter by `variable_name[:number_of_samples]`. \n",
    "</div>"
   ]
  },
  {
   "cell_type": "code",
   "execution_count": 29,
   "id": "905e9909",
   "metadata": {},
   "outputs": [],
   "source": [
    "# please complete the following code:\n",
    "\n",
    "# concert_pitch = get_sine_wave(...\n",
    "\n",
    "# Look at the first 30 ms (240 / 8000 Hz = 0.03 s) of the generated wave\n",
    "#plt.plot(concert_pitch[:240])\n",
    "#plt.xlabel(...\n",
    "#plt.ylabel(...\n",
    "#plt.title(...\n",
    "None # This command does nothing but prevents printing the result of previous function call"
   ]
  },
  {
   "cell_type": "markdown",
   "id": "d9831746",
   "metadata": {},
   "source": [
    "We can concatenate signals to form a longer signal.\n",
    "As an example we want to create a new signal with half the concert pitch frequency (which we call `half_concert_pitch`) and then play it 2 times alternating with the concert pitch. `numpy`'s `np.concatenate(...)` might be useful for this task.\n",
    "\n",
    "<br>\n",
    "<div style=\"border: 2px solid #999; padding: 10px; background: #eee;\">\n",
    "    \n",
    "**Task 3:**\n",
    "    \n",
    "Generate a second sine signal of same length but with only half the frequency, i.e. \n",
    "    \n",
    "Visualise the generated concert pitch, i.e. the sine signal of frequence $f=220$ Hz. Concetenate the signal blocks alternating to create a signal of 8 seconds. and listen to it.  \n",
    "</div>"
   ]
  },
  {
   "cell_type": "code",
   "execution_count": 30,
   "id": "bd549026",
   "metadata": {},
   "outputs": [],
   "source": [
    "# your code here\n",
    "# half_concert_pitch = get_sine_wave(...\n",
    "\n",
    "# plot\n",
    "\n",
    "# alternation = np.concatenate(...\n",
    "\n",
    "# play alternating signal\n",
    "# ..."
   ]
  },
  {
   "cell_type": "markdown",
   "id": "ccd4b0ec",
   "metadata": {},
   "source": [
    "Adding together two signals gives a signal where both frequencies can be heard.\n",
    "The resulting signal does not look like a sine wave anymore but we can still clearly see its periodicity.\n",
    "The periodicity is so promiment because one frequency is a multiple of the other.\n",
    "If this is not the case it can take much longer for the signal to repeat its pattern.\n",
    "\n",
    "<br>\n",
    "<div style=\"border: 2px solid #999; padding: 10px; background: #eee;\">\n",
    "    \n",
    "**Task 4:**\n",
    "    \n",
    "Add, visualise and play a superposition of two sine signals for which the frequency is close together than in the example before.  \n",
    "</div>"
   ]
  },
  {
   "cell_type": "code",
   "execution_count": 31,
   "id": "2cac9d32",
   "metadata": {},
   "outputs": [],
   "source": [
    "# your code here"
   ]
  },
  {
   "cell_type": "markdown",
   "id": "f8ddc2d0",
   "metadata": {},
   "source": [
    "## Damped sine \n",
    "\n",
    "\n",
    "A damped sine can be defined as\n",
    "\n",
    "\\begin{equation}\n",
    "x(t) = \\mathrm{sin}(2 \\pi f t) \\, \\mathrm{e}^{- a t}\n",
    "\\label{eqn:dampled-sinus}\n",
    "\\tag{1}\n",
    "\\end{equation}\n",
    "\n",
    "\n",
    "<br>\n",
    "<div style=\"border: 2px solid #999; padding: 10px; background: #eee;\">\n",
    "    \n",
    "**Task 5:**\n",
    "    \n",
    "Create a sine with $f=2.5$ Hz of 1 second length and plot it. Create the damped sinus according to \\eqref{eqn:dampled-sinus}. Play around with the damping factor $a$.\n",
    "</div>"
   ]
  },
  {
   "cell_type": "code",
   "execution_count": 40,
   "id": "d1aea3db",
   "metadata": {},
   "outputs": [
    {
     "data": {
      "image/png": "[encoded data removed]",
      "text/plain": [
       "<Figure size 432x288 with 2 Axes>"
      ]
     },
     "metadata": {},
     "output_type": "display_data"
    }
   ],
   "source": [
    "fs=8000\n",
    "#t=np.arange(0...) # crete time vector of 1 second length\n",
    "#f = 2.5               # frequency for sine (2.5 Hz)\n",
    "#a = 1             # daming factor (play around with it and see what happens)\n",
    "\n",
    "#sin  = ... # add code here\n",
    "#damp = np.exp(-a*t)\n",
    "#x = sin * damp\n",
    "\n",
    "plt.subplot(2,1,1);\n",
    "#plt.plot(t,sin)\n",
    "#plt.ylabel(...) # complete code here\n",
    "\n",
    "plt.subplot(2,1,2);\n",
    "#plt.plot(t,x, label='sin$(2 \\pi \\cdot ' + str(f) + ' \\mathrm{Hz} \\cdot t) \\cdot \\mathrm{e}^{- a t}$')\n",
    "#plt.plot(t,damp, '--', label='$\\mathrm{e}^{- a t}$')\n",
    "#plt.legend()\n",
    "#plt.xlabel('$t$ in seconds'); # the ; also suppresses output, try to delete it"
   ]
  },
  {
   "cell_type": "markdown",
   "id": "5f45e2ab",
   "metadata": {},
   "source": [
    "## Play a song - Your first song\n",
    "\n",
    "By generating sine waves of different lengths and frequencies with `get_sine_wave` you are now able to play simple songs. \n",
    "\n",
    "The picture below shows the relation of musical notes to keys of a keyboard.\n",
    "\n",
    "<img src=\"notes-vs-keys.png\" alt=\"Relation between notes and keys of a keyboard.\" style=\"width: 600px;\"/>\n",
    "\n",
    "We already learned that each note has a fundamental [frequencies](https://pages.mtu.edu/~suits/notefreqs.html), e.g. as in the following table:\n",
    "\n",
    "| note      | ... |  G3  |  A3  |   B3   |   C4   |   D4   |   E4   |   F4   |   G4   |     A4  |  ...  |\n",
    "| --------- | --- | ---- | ---- | ------ | ------ | ------ | ------ | ------ | ------ | ------- |  ---- |\n",
    "| $f$ in Hz | ... | 196  |  220 | 246.94 | 261.63 | 293.66 | 329.63 | 349.23 | 392.00 | **440** |  ...  |\n",
    "\n",
    "Just FYI:\n",
    "* The [note A4](https://en.wikipedia.org/wiki/A_(musical_note)) is our reference point and is defined having a frequency of [440 Hz](https://en.wikipedia.org/wiki/A440_(pitch_standard)) (which is why it is marked by bold font in the table  above)\n",
    "* one [octave](https://en.wikipedia.org/wiki/Octave), e.g. from C to the next C (or from A to the next A), means doubling the frequency\n",
    "* In general we can calculate the frequency of a tone by the following equaltion (but it's probaly easier to look it up, e.g. using the link above):\n",
    "\\begin{equation}\n",
    "f = 440 * 2 ^{(\\mathrm{note-position} / 12) + (\\mathrm{octave} - 4)}\n",
    "\\end{equation}\n",
    "\n",
    "\n",
    "<br>\n",
    "<div style=\"border: 2px solid #999; padding: 10px; background: #eee;\">\n",
    "    \n",
    "**Task 6:**\n",
    "    \n",
    "Create notes G3, A3, B3, D4, C4 and E4 and concatenate the sounds to create your first song.\n",
    "</div>\n"
   ]
  },
  {
   "cell_type": "code",
   "execution_count": 32,
   "id": "7975fc28",
   "metadata": {},
   "outputs": [],
   "source": [
    "# create basic tones\n",
    "#g = get_sine_wave(196.00)\n",
    "#a = get_sine_wave(...\n",
    "#...\n",
    "\n",
    "# append together to form tune + chord \n",
    "#tune = [b,d,a,g,a,b,d,(g+b+d)]\n",
    "#tune = np.concatenate(tune)\n",
    "\n",
    "# play-back:\n",
    "# plot:\n"
   ]
  },
  {
   "cell_type": "markdown",
   "id": "d238d35f",
   "metadata": {},
   "source": [
    "<div style=\"border: 2px solid #999; padding: 10px; background: #eee;\">\n",
    "    \n",
    "**Task 7:**\n",
    "    \n",
    "Repeat Task 6, but this time creating damped tones.\n",
    "</div>\n"
   ]
  },
  {
   "cell_type": "code",
   "execution_count": 33,
   "id": "7ee6fbf9",
   "metadata": {},
   "outputs": [],
   "source": [
    "# your code here"
   ]
  },
  {
   "cell_type": "markdown",
   "id": "da9af3af",
   "metadata": {},
   "source": [
    "### Optional: Play a song \"with both hands\"\n",
    "\n",
    "This is a task which will probably take more time than you have during the lab time. Therefore, I suggest that you do this at home after the lab (if your are interested) or if you have spare time after finishing the other tasks, i.e. go to the section \"Sampling Rate\" first. \n",
    "\n",
    "A simple additional feature we need to generate a more advances song is a function to generate silence. The following function `get_silence` generates an array of 0-values of the desired length."
   ]
  },
  {
   "cell_type": "code",
   "execution_count": 34,
   "id": "3b37a196",
   "metadata": {},
   "outputs": [],
   "source": [
    "def get_silence(length_s, sample_rate_hz):\n",
    "    \"\"\"Return silence for the given length at the given sample rate.\"\"\"\n",
    "    return np.zeros(int(length_s * sample_rate_hz))"
   ]
  },
  {
   "cell_type": "markdown",
   "id": "f99b783c",
   "metadata": {},
   "source": [
    "The following function creates a tone with the correct frequency by just calling `create_tone(note, duration)`."
   ]
  },
  {
   "cell_type": "code",
   "execution_count": 35,
   "id": "2d5eb168",
   "metadata": {},
   "outputs": [],
   "source": [
    "def create_tone(note, duration):\n",
    "    \n",
    "    tempo = 5\n",
    "\n",
    "    if note == \"Pause\":\n",
    "        return get_silence(length_s=duration*tempo, sample_rate_hz=8000)\n",
    "\n",
    "    note_position = {\n",
    "        \"C\": -9,\n",
    "        \"C#\": -8,\n",
    "        \"D\": -7,\n",
    "        \"D#\": -6,\n",
    "        \"E\": -5,\n",
    "        \"F\": -4,\n",
    "        \"F#\": -3,\n",
    "        \"G\": -2,\n",
    "        \"G#\": -1,\n",
    "        \"A\": 0,\n",
    "        \"A#\": 1,\n",
    "        \"B\": 2,\n",
    "    }\n",
    "\n",
    "    octave = int(note[-1])\n",
    "    key = note[:-1]\n",
    "\n",
    "    frequency_hz = 440 * 2 ** ((note_position[key] / 12) + (octave - 4))\n",
    "\n",
    "    return get_sine_wave(\n",
    "        frequency_hz=frequency_hz, length_s=duration*tempo, sample_rate_hz=8000\n",
    "    )"
   ]
  },
  {
   "cell_type": "markdown",
   "id": "5e91e355",
   "metadata": {},
   "source": [
    "Let's try it:"
   ]
  },
  {
   "cell_type": "code",
   "execution_count": 41,
   "id": "ba80d27b",
   "metadata": {},
   "outputs": [
    {
     "ename": "AttributeError",
     "evalue": "'NoneType' object has no attribute 'shape'",
     "output_type": "error",
     "traceback": [
      "\u001b[1;31m---------------------------------------------------------------------------\u001b[0m",
      "\u001b[1;31mAttributeError\u001b[0m                            Traceback (most recent call last)",
      "\u001b[1;32m~\\AppData\\Local\\Temp/ipykernel_6560/2953830439.py\u001b[0m in \u001b[0;36m<module>\u001b[1;34m\u001b[0m\n\u001b[0;32m      2\u001b[0m \u001b[1;33m\u001b[0m\u001b[0m\n\u001b[0;32m      3\u001b[0m \u001b[0mtest_tone\u001b[0m\u001b[1;33m=\u001b[0m\u001b[0mcreate_tone\u001b[0m\u001b[1;33m(\u001b[0m\u001b[1;34m\"C4\"\u001b[0m\u001b[1;33m,\u001b[0m \u001b[1;36m1\u001b[0m\u001b[1;33m/\u001b[0m\u001b[1;36m8\u001b[0m\u001b[1;33m)\u001b[0m\u001b[1;33m\u001b[0m\u001b[1;33m\u001b[0m\u001b[0m\n\u001b[1;32m----> 4\u001b[1;33m \u001b[0mtest_tone\u001b[0m\u001b[1;33m.\u001b[0m\u001b[0mshape\u001b[0m\u001b[1;33m\u001b[0m\u001b[1;33m\u001b[0m\u001b[0m\n\u001b[0m\u001b[0;32m      5\u001b[0m \u001b[0mplt\u001b[0m\u001b[1;33m.\u001b[0m\u001b[0mplot\u001b[0m\u001b[1;33m(\u001b[0m\u001b[0mtest_tone\u001b[0m\u001b[1;33m)\u001b[0m\u001b[1;33m\u001b[0m\u001b[1;33m\u001b[0m\u001b[0m\n\u001b[0;32m      6\u001b[0m \u001b[1;33m\u001b[0m\u001b[0m\n",
      "\u001b[1;31mAttributeError\u001b[0m: 'NoneType' object has no attribute 'shape'"
     ]
    }
   ],
   "source": [
    "from IPython import display as ipd\n",
    "\n",
    "test_tone=create_tone(\"C4\", 1/8)\n",
    "test_tone.shape\n",
    "plt.plot(test_tone)\n",
    "\n",
    "#ipd.Audio(test_tone ,rate=8000)"
   ]
  },
  {
   "cell_type": "markdown",
   "id": "52f5f012",
   "metadata": {},
   "source": [
    "One following figure visualises the notes we will play using both hands \n",
    "\n",
    "(the *right hand*) is described by the following notes and pauses:\n",
    "\n",
    "![Piano](music-notes-begin.png)\n",
    "\n",
    "| note   |  E5  |  D#5 |  E5  |  D#5 |  E5  |  B4  |  D5  |  C5  |  A4  |  Pause  | ...  |\n",
    "| ------ | ---- | ---- | ---- | ---- | ---- | ---- | ---- | ---- | ---- | ------- | ---- |\n",
    "| length | 1/16 | 1/16 | 1/16 | 1/16 | 1/16 | 1/16 | 1/16 | 1/16 | 1/8  |  1/16   | ...  |\n",
    "\n",
    "Lengths of notes are given by halving:\n",
    "A half note has half the length as a whole note, a quarter note is half a half note (or quarter of a whole note), etc. Note durations can also be more complex, such as 3/4 or 3/2.\n",
    "\n",
    "For the following song you should choose an appropriate `sample_rate_hz` and duration for the whole note. Specifically make sure that multiplying the `sample_rate_hz` with the duration of the sixteenth note gives an integer result with no rounding required.\n",
    "    \n",
    "- E5 1/16, D#5 1/16\n",
    "- E5 1/16, D#5 1/16, E5 1/16, B4 1/16, D5 1/16, C5 1/16\n",
    "- A4 1/8, Pause 1/16, C4 1/16, E4 1/16, A4 1/16\n",
    "- B4 1/8, Pause 1/16, E4 1/16, G#4 1/16, B4 1/16\n",
    "- C4 1/8, Pause 1/16, E4 1/16, E5 1/16, D#5 1/16\n",
    "- E5 1/16, D#5 1/16, E5 1/16, B4 1/16, D5 1/16, C5 1/16\n",
    "- A4 1/8, Pause 1/16, C4 1/16, E4 1/16, A4 1/16\n",
    "- B4 1/8, Pause 1/16, E4 1/16, C5 1/16, B4 1/16\n",
    "- A4 1/4\n",
    "\n",
    "The other part (the *left hand*) is described as follows:\n",
    "- Pause 1/8\n",
    "- Pause 3/8\n",
    "- A2 1/16, E3 1/16, A3 1/16, Pause 3/16\n",
    "- E2 1/16, E3 1/16, G#3 1/16, Pause 3/16\n",
    "- A2 1/16, E3 1/16, B3 1/16, Pause 3/16\n",
    "- Pause 3/8\n",
    "- A2 1/16, E3 1/16, A3 1/16, Pause 3/16\n",
    "- E2 1/16, E3 1/16, G#3 1/16, Pause 3/16\n",
    "- A2 1/16, E3 1/16, B3 1/16, Pause 1/16\n"
   ]
  },
  {
   "cell_type": "markdown",
   "id": "b2b238c5",
   "metadata": {},
   "source": [
    "## Sampling Rate\n",
    "\n",
    "<br>\n",
    "<div style=\"border: 2px solid #999; padding: 10px; background: #eee;\">\n",
    "    \n",
    "**Task 8:**\n",
    "    \n",
    "Download the wave file `https://staffwww.dcs.shef.ac.uk/people/S.Goetze/sound/music_44k.wav` and load it into a variable.\n",
    "    \n",
    "</div>"
   ]
  },
  {
   "cell_type": "code",
   "execution_count": null,
   "id": "d8e31fdd",
   "metadata": {},
   "outputs": [],
   "source": [
    "# Download the wave file `https://staffwww.dcs.shef.ac.uk/people/S.Goetze/sound/music_44k.wav`\n",
    "\n",
    "# your code here \n",
    "\n",
    "# load it into a variable.\n",
    "# mus_44k, fs44 = ....  # complete code here"
   ]
  },
  {
   "cell_type": "markdown",
   "id": "1d69d6eb",
   "metadata": {},
   "source": [
    "<div style=\"border: 2px solid #999; padding: 10px; background: #eee;\">\n",
    "    \n",
    "**Task 9:**\n",
    "    \n",
    "Change the sampling frequency from $44$ kHz (which is the original sampling frequency of the loaded WAVE file) to $8$ kHz. Then change the sampling frequency back to $8$ kHz.\n",
    "    \n",
    "Plot both signal as a spectrogram. This can be done using the command `resample` from the `librosa` library.\n",
    "    \n",
    "</div>"
   ]
  },
  {
   "cell_type": "code",
   "execution_count": null,
   "id": "b81b8493",
   "metadata": {},
   "outputs": [],
   "source": [
    "import librosa         # we will use librosa here for resampling\n",
    "\n",
    "#mus_8k = librosa.resample(mus_44k, fs44, 8000); # resample to 8 kHz\n",
    "# .....     # resample back to 44.1 kHz\n",
    "\n",
    "# compare in terms of spectrograms\n",
    "plt.subplot(1,2,1)\n",
    "#plt.specgram(mus_44k, Fs=fs44);\n",
    "plt.subplot(1,2,2)\n",
    "#plt.specgram(mus_44k_2, Fs=fs44);"
   ]
  }
 ],
 "metadata": {
  "kernelspec": {
   "display_name": "Python 3 (ipykernel)",
   "language": "python",
   "name": "python3"
  },
  "language_info": {
   "codemirror_mode": {
    "name": "ipython",
    "version": 3
   },
   "file_extension": ".py",
   "mimetype": "text/x-python",
   "name": "python",
   "nbconvert_exporter": "python",
   "pygments_lexer": "ipython3",
   "version": "3.8.3"
  }
 },
 "nbformat": 4,
 "nbformat_minor": 5
}
