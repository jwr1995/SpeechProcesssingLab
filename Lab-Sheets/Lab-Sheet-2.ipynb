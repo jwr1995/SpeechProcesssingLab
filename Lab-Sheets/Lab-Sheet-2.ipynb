{
 "cells": [
  {
   "cell_type": "markdown",
   "id": "dee102d7",
   "metadata": {},
   "source": [
    "# Lab Sheet 2 (COM3502-4502-6502 Speech Processing)"
   ]
  },
  {
   "cell_type": "markdown",
   "id": "f28a56fe",
   "metadata": {},
   "source": [
    "This lab sheet is part of the lecture COM[3502](http://www.dcs.shef.ac.uk/intranet/teaching/public/modules/level3/com3502.html \"Open web page for COM3502 module\")-[4502](http://www.dcs.shef.ac.uk/intranet/teaching/public/modules/level4/com4502.html \"Open web page for COM4502 module\")-[6502](http://www.dcs.shef.ac.uk/intranet/teaching/public/modules/msc/com6502.html \"Open web page for COM4502 module\") Speech Processing at the [University of Sheffield](https://www.sheffield.ac.uk/ \"Open web page of The University of Sheffield\"), Dept. of [Computer Science](https://www.sheffield.ac.uk/dcs \"Open web page of Department of Computer Science, University of Sheffield\")."
   ]
  },
  {
   "cell_type": "markdown",
   "id": "51725272",
   "metadata": {},
   "source": [
    "It is probably easiest to open this Jupyter Notebook with [Google Colab](https://colab.research.google.com/notebooks/intro.ipynb#recent=true \"Open in Google Colab\") since GitHub's Viewer does not always show all details correctly. <a href=\"https://colab.research.google.com/github/sap-shef/SpeechProcesssingLab/blob/main/Lab-Sheets/Lab-Sheet-2.ipynb\"><img align=\"right\" src=\"https://colab.research.google.com/assets/colab-badge.svg\" alt=\"Open Notebook in Google Colab\" title=\"Open and Execute the Notebook directly in Google Colaboratory\"></a>\n",
    "\n",
    "Please put questions, comments and correction suggestions in the [Blackboard](https://vle.shef.ac.uk) discussion board or send an email to [s.goetze@sheffield.ac.uk](mailto:s.goetze@sheffield.ac.uk)."
   ]
  },
  {
   "cell_type": "code",
   "execution_count": 1,
   "id": "f80929e0",
   "metadata": {},
   "outputs": [],
   "source": [
    "# Let's do some necessary and nice-to-have imports\n",
    "%matplotlib inline\n",
    "import matplotlib.pyplot as plt  # plotting\n",
    "import seaborn as sns; sns.set() # styling\n",
    "import numpy as np               # math"
   ]
  },
  {
   "cell_type": "markdown",
   "id": "1b40966a",
   "metadata": {},
   "source": [
    "## Generate sine wave\n",
    "\n",
    "We are already familiar with generating sine signals from last lab sheet. Since we will need a lot of sine signals this time, it makes sense to create a function calculating a sine.\n",
    "\n",
    "<br>\n",
    "<div style=\"border: 2px solid #999; padding: 10px; background: #eee;\">\n",
    "    \n",
    "**Task 1: A function to create sine waves**\n",
    "    \n",
    "Please write a function `get_sine_wave(frequency_hz, length_s, sample_rate_hz)` which returns a sine wave with the given frequency $f$ and duration (in seconds) at the desired sample rate $f_s$.\n",
    "</div>\n",
    "\n"
   ]
  },
  {
   "cell_type": "code",
   "execution_count": null,
   "id": "42065eb0",
   "metadata": {},
   "outputs": [],
   "source": [
    "def get_sine_wave(frequency_hz, length_s=1, sample_rate_hz=8000):\n",
    "    \"\"\"\n",
    "    Return a sine wave with given parameters.\n",
    "    \n",
    "    Parameters\n",
    "    ----------\n",
    "    frequency_hz : float\n",
    "        frequency $f$ of the sinus to be generated \n",
    "    length_s : float, optional\n",
    "        length of the sine signal to be generated, default: 1 sec.\n",
    "    sample_rate_hz : float, optional\n",
    "        sampling frequency $f_s$ in Hz, default: 8000 Hz\n",
    "\n",
    "    Returns\n",
    "    -------\n",
    "    signal\n",
    "        generated sinus signal\n",
    "    \"\"\"\n",
    "    \n",
    "    # your code here\n",
    "    \n",
    "    #return ... # let the function return the sinus signal"
   ]
  },
  {
   "cell_type": "markdown",
   "id": "dfae0cfa",
   "metadata": {},
   "source": [
    "Typical samples rates are 8000 Hz or 16000 Hz for speech signals and 22050 Hz, 44100 Hz or 48000 Hz for music. We will now use a sample rate of **8000 Hz**. Further down in this lab sheet we will play around with sampling frequencies.\n",
    "\n",
    "Sound signls perceiveable by humans are roughly in the range of 20 Hz to 20 000 Hz (for older persons equcially the theoretical limit of 20 kHz is usually lower). \n",
    "\n",
    "The so called [concert pitch](https://en.wikipedia.org/wiki/Concert_pitch \"Open Wikipedia for more information on Concert Pitch\") is at 440 Hz.\n",
    "We now want to generate a 2 second sine wave with concert pitch at the sample rate mentioned above and then look at a part of the generated signal to check that it actually resembles a sine wave.\n",
    "\n",
    "<br>\n",
    "<div style=\"border: 2px solid #999; padding: 10px; background: #eee;\">\n",
    "    \n",
    "**Task 2: Visualise the sine wave**\n",
    "    \n",
    "Generate and visualise the a concert pitch signal of 2 seconds, i.e. the sine signal of frequency $f=440$ Hz and listen to it. Plese note, that for visualising (plotting) you might want to only plot the first samples. The initial samples of a vector can be selected by `variable_name[0:number_of_samples]` or shorter by `variable_name[:number_of_samples]`. \n",
    "</div>"
   ]
  },
  {
   "cell_type": "code",
   "execution_count": null,
   "id": "905e9909",
   "metadata": {},
   "outputs": [],
   "source": [
    "# please complete the following code:\n",
    "\n",
    "# concert_pitch = get_sine_wave(...\n",
    "\n",
    "# Look at the first 30 ms (240 / 8000 Hz = 0.03 s) of the generated wave\n",
    "#plt.plot(concert_pitch[:240])\n",
    "#plt.xlabel(...\n",
    "#plt.ylabel(...\n",
    "#plt.title(...\n",
    "None # This command does nothing but prevents printing the result of previous function call"
   ]
  },
  {
   "cell_type": "markdown",
   "id": "d9831746",
   "metadata": {},
   "source": [
    "We can concatenate signals to form a longer signal.\n",
    "As an example we want to create a new signal with half the concert pitch frequency (which we call `half_concert_pitch`) and then play it 2 times alternating with the concert pitch. `numpy`'s `np.concatenate(...)` might be useful for this task.\n",
    "\n",
    "<br>\n",
    "<div style=\"border: 2px solid #999; padding: 10px; background: #eee;\">\n",
    "    \n",
    "**Task 3: Concatenate sine waves of different frequency**\n",
    "    \n",
    "Generate a second sine signal of same length but with only half the frequency, i.e. \n",
    "    \n",
    "Visualise the generated signal, i.e. the sine signal of frequence $f=220$ Hz. Concetenate the signal blocks alternating to create a signal of 8 seconds. and listen to it.  \n",
    "</div>"
   ]
  },
  {
   "cell_type": "code",
   "execution_count": null,
   "id": "bd549026",
   "metadata": {},
   "outputs": [],
   "source": [
    "# your code here\n",
    "# half_concert_pitch = get_sine_wave(...\n",
    "\n",
    "# plot\n",
    "\n",
    "# alternation = np.concatenate(...\n",
    "\n",
    "# play alternating signal\n",
    "# ..."
   ]
  },
  {
   "cell_type": "markdown",
   "id": "ccd4b0ec",
   "metadata": {},
   "source": [
    "Adding together two signals gives a signal where both frequencies can be heard.\n",
    "The resulting signal does not look like a sine wave anymore but we can still clearly see its periodicity.\n",
    "The periodicity is so promiment because one frequency is a multiple of the other.\n",
    "If this is not the case it can take much longer for the signal to repeat its pattern.\n",
    "\n",
    "<br>\n",
    "<div style=\"border: 2px solid #999; padding: 10px; background: #eee;\">\n",
    "    \n",
    "**Task 4: Superposition**\n",
    "    \n",
    "Add, visualise and play a superposition (addition) of two sine signals for which the frequency is close together than in the example before.  \n",
    "</div>"
   ]
  },
  {
   "cell_type": "code",
   "execution_count": null,
   "id": "a9085da3",
   "metadata": {},
   "outputs": [],
   "source": [
    "# your code here"
   ]
  },
  {
   "cell_type": "markdown",
   "id": "f8ddc2d0",
   "metadata": {},
   "source": [
    "## Damped sine \n",
    "\n",
    "\n",
    "A damped sine can be defined as\n",
    "\n",
    "\\begin{equation}\n",
    "x(t) = \\mathrm{sin}(2 \\pi f t) \\, \\mathrm{e}^{- a t}.\n",
    "\\label{eqn:dampled-sinus}\n",
    "\\tag{1}\n",
    "\\end{equation}\n",
    "\n",
    "\n",
    "<br>\n",
    "<div style=\"border: 2px solid #999; padding: 10px; background: #eee;\">\n",
    "    \n",
    "**Task 5: Damped sine wave**\n",
    "    \n",
    "Create a sine with $f=2.5$ Hz of $1$ second length and plot it. \n",
    "    \n",
    "Create the damped sinus according to \\eqref{eqn:dampled-sinus} from the just created sine wave. \n",
    "    \n",
    "Play around with the damping factor $a$.\n",
    "</div>"
   ]
  },
  {
   "cell_type": "code",
   "execution_count": null,
   "id": "d1aea3db",
   "metadata": {},
   "outputs": [],
   "source": [
    "fs=8000\n",
    "#t=np.arange(0...) # crete time vector of 1 second length\n",
    "#f = 2.5               # frequency for sine (2.5 Hz)\n",
    "#a = 1             # daming factor (play around with it and see what happens)\n",
    "\n",
    "#sin  = ... # add code here\n",
    "#damp = np.exp(-a*t)\n",
    "#x = sin * damp\n",
    "\n",
    "plt.subplot(2,1,1);\n",
    "#plt.plot(t,sin)\n",
    "#plt.ylabel(...) # complete code here\n",
    "\n",
    "plt.subplot(2,1,2);\n",
    "#plt.plot(t,x, label='sin$(2 \\pi \\cdot ' + str(f) + ' \\mathrm{Hz} \\cdot t) \\cdot \\mathrm{e}^{- a t}$')\n",
    "#plt.plot(t,damp, '--', label='$\\mathrm{e}^{- a t}$')\n",
    "#plt.legend()\n",
    "#plt.xlabel('$t$ in seconds'); # the ; also suppresses output, try to delete it"
   ]
  },
  {
   "cell_type": "markdown",
   "id": "5f45e2ab",
   "metadata": {},
   "source": [
    "## Play a song \n",
    "\n",
    "By generating sine waves of different lengths and frequencies with `get_sine_wave` you are now able to play simple songs. \n",
    "\n",
    "The picture below shows the relation of musical notes to keys of a keyboard.\n",
    "\n",
    "<img src=\"notes-vs-keys.png\" alt=\"Relation between notes and keys of a keyboard.\" style=\"width: 500px;\"/>\n",
    "\n",
    "We already learned that each note has a fundamental [frequency](https://pages.mtu.edu/~suits/notefreqs.html), e.g. as in the following table:\n",
    "\n",
    "| note      | ... |  G3  |  A3  |   B3   |   C4   |   D4   |   E4   |   F4   |   G4   |     A4  |  ...  |\n",
    "| --------- | --- | ---- | ---- | ------ | ------ | ------ | ------ | ------ | ------ | ------- |  ---- |\n",
    "| $f$ in Hz | ... | 196  |  220 | 246.94 | 261.63 | 293.66 | 329.63 | 349.23 | 392.00 | **440** |  ...  |\n",
    "\n",
    "Just FYI (knowledge not necessary to solve the task, but maybe nevertheless of interest for some of you):\n",
    "* The [note A4](https://en.wikipedia.org/wiki/A_(musical_note)) is our reference point and is defined having a frequency of [440 Hz](https://en.wikipedia.org/wiki/A440_(pitch_standard)) (which is why it is marked by bold font in the table  above)\n",
    "* one [octave](https://en.wikipedia.org/wiki/Octave), e.g. from C to the next C (or from A to the next A), means doubling the frequency\n",
    "* In general we can calculate the frequency of a tone by the following equaltion (but it's probaly easier to look it up, e.g. using the link above):\n",
    "\\begin{equation}\n",
    "f = 440 \\cdot 2 ^{(\\mathrm{note-position} / 12) + (\\mathrm{octave} - 4)}\n",
    "\\end{equation}\n",
    "\n",
    "\n",
    "<br>\n",
    "<div style=\"border: 2px solid #999; padding: 10px; background: #eee;\">\n",
    "    \n",
    "**Task 6:**\n",
    "    \n",
    "Create notes G3, A3, B3, D4, C4 and E4 and concatenate the sounds to create your first song.\n",
    "</div>\n"
   ]
  },
  {
   "cell_type": "code",
   "execution_count": null,
   "id": "9093fd12",
   "metadata": {},
   "outputs": [],
   "source": [
    "# create basic tones\n",
    "#g = get_sine_wave(196.00)\n",
    "#a = get_sine_wave(...\n",
    "#...\n",
    "\n",
    "# append together to form tune + chord \n",
    "#tune = [b,d,a,g,a,b,d,(g+b+d)]\n",
    "#tune = np.concatenate(tune)\n",
    "\n",
    "# play-back:\n",
    "# plot:\n"
   ]
  },
  {
   "cell_type": "markdown",
   "id": "b7082c60",
   "metadata": {},
   "source": [
    "<div style=\"border: 2px solid #999; padding: 10px; background: #eee;\">\n",
    "    \n",
    "**Task 7:**\n",
    "    \n",
    "Repeat Task 6, but this time creating damped tones (remember equation (1)).\n",
    "</div>\n"
   ]
  },
  {
   "cell_type": "code",
   "execution_count": null,
   "id": "3123e974",
   "metadata": {},
   "outputs": [],
   "source": [
    "# your code here"
   ]
  },
  {
   "cell_type": "markdown",
   "id": "b2b238c5",
   "metadata": {},
   "source": [
    "## Sampling Rate\n",
    "\n",
    "<br>\n",
    "<div style=\"border: 2px solid #999; padding: 10px; background: #eee;\">\n",
    "    \n",
    "**Task 8:**\n",
    "    \n",
    "Download the wave file `https://staffwww.dcs.shef.ac.uk/people/S.Goetze/sound/music_44k.wav` and load it into a variable.\n",
    "    \n",
    "</div>\n",
    "\n",
    "Hint: have a look at last week's lab sheet for loading sound files."
   ]
  },
  {
   "cell_type": "code",
   "execution_count": null,
   "id": "d8e31fdd",
   "metadata": {},
   "outputs": [],
   "source": [
    "# Download the wave file `https://staffwww.dcs.shef.ac.uk/people/S.Goetze/sound/music_44k.wav`\n",
    "\n",
    "# your code here \n",
    "\n",
    "# load it into a variable.\n",
    "# mus_44k, fs44 = ....  # complete code here"
   ]
  },
  {
   "cell_type": "markdown",
   "id": "98396183",
   "metadata": {},
   "source": [
    "<div style=\"border: 2px solid #999; padding: 10px; background: #eee;\">\n",
    "    \n",
    "**Task 9:**\n",
    "    \n",
    "Change the sampling frequency from $44$ kHz (which is the original sampling frequency of the loaded WAVE file) to $8$ kHz. Then change the sampling frequency back to $44$ kHz.\n",
    "    \n",
    "Plot both signal as a spectrogram. This can be done using the command `resample` from the `librosa` library.\n",
    "    \n",
    "</div>"
   ]
  },
  {
   "cell_type": "markdown",
   "id": "cc90f2fb",
   "metadata": {},
   "source": [
    "You should see in the plotted spectrograms that information above $4$ kHz originally contained in the signal is now lost."
   ]
  },
  {
   "cell_type": "code",
   "execution_count": null,
   "id": "b66c7024",
   "metadata": {},
   "outputs": [],
   "source": [
    "import librosa         # we will use librosa here for resampling\n",
    "\n",
    "#mus_8k = librosa.resample(mus_44k, fs44, 8000); # resample to 8 kHz\n",
    "# .....     # resample back to 44.1 kHz\n",
    "\n",
    "# compare in terms of spectrograms\n",
    "plt.subplot(1,2,1)\n",
    "#plt.specgram(mus_44k, Fs=fs44);\n",
    "plt.subplot(1,2,2)\n",
    "#plt.specgram(mus_44k_2, Fs=fs44);"
   ]
  }
 ],
 "metadata": {
  "kernelspec": {
   "display_name": "Python 3 (ipykernel)",
   "language": "python",
   "name": "python3"
  },
  "language_info": {
   "codemirror_mode": {
    "name": "ipython",
    "version": 3
   },
   "file_extension": ".py",
   "mimetype": "text/x-python",
   "name": "python",
   "nbconvert_exporter": "python",
   "pygments_lexer": "ipython3",
   "version": "3.8.3"
  }
 },
 "nbformat": 4,
 "nbformat_minor": 5
}
