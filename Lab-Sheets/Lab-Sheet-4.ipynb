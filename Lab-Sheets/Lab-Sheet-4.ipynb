{
 "cells": [
  {
   "cell_type": "markdown",
   "id": "3db92ee4",
   "metadata": {},
   "source": [
    "# Lab Sheet 4 (COM3502-4502-6502 Speech Processing)"
   ]
  },
  {
   "cell_type": "markdown",
   "id": "70d29bab",
   "metadata": {},
   "source": [
    "This lab sheet is part of the lecture COM[3502](http://www.dcs.shef.ac.uk/intranet/teaching/public/modules/level3/com3502.html \"Open web page for COM3502 module\")-[4502](http://www.dcs.shef.ac.uk/intranet/teaching/public/modules/level4/com4502.html \"Open web page for COM4502 module\")-[6502](http://www.dcs.shef.ac.uk/intranet/teaching/public/modules/msc/com6502.html \"Open web page for COM4502 module\") Speech Processing at the [University of Sheffield](https://www.sheffield.ac.uk/ \"Open web page of The University of Sheffield\"), Dept. of [Computer Science](https://www.sheffield.ac.uk/dcs \"Open web page of Department of Computer Science, University of Sheffield\")."
   ]
  },
  {
   "cell_type": "markdown",
   "id": "e1ed6755",
   "metadata": {},
   "source": [
    "It is probably easiest to open this Jupyter Notebook with [Google Colab](https://colab.research.google.com/notebooks/intro.ipynb#recent=true \"Open in Google Colab\") since GitHub's Viewer does not always show all details correctly. <a href=\"https://colab.research.google.com/github/sap-shef/SpeechProcesssingLab/blob/main/Lab-Sheets/Lab-Sheet-4.ipynb\"><img align=\"right\" src=\"https://colab.research.google.com/assets/colab-badge.svg\" alt=\"Open Notebook in Google Colab\" title=\"Open and Execute the Notebook directly in Google Colaboratory\"></a>\n",
    "\n",
    "Please put questions, comments and correction suggestions in the [Blackboard](https://vle.shef.ac.uk) discussion board or send an email to [s.goetze@sheffield.ac.uk](mailto:s.goetze@sheffield.ac.uk)."
   ]
  },
  {
   "cell_type": "code",
   "execution_count": 4,
   "id": "258a82b5",
   "metadata": {},
   "outputs": [],
   "source": [
    "# Let's do the ususal necessary and nice-to-have imports\n",
    "%matplotlib inline\n",
    "import matplotlib.pyplot as plt  # plotting\n",
    "#import seaborn as sns; sns.set() # styling ((un-)comment if you want)\n",
    "import numpy as np               # math"
   ]
  },
  {
   "cell_type": "markdown",
   "id": "6de41db4",
   "metadata": {},
   "source": [
    "## Frequency analysis (of periodic signals)\n",
    "\n",
    "The **[Fourier](https://en.wikipedia.org/wiki/Joseph_Fourier \"Click here to read additional information on Joseph Fourier on Wikipedia\") Theorem** states that any periodic signal of frequency $f_0$ can be constructed exactly by adding together ‘sinusoids’ (sine waves) with frequencies $f_0$, $2f_0$, $3f_0$, $4f_0$, $5f_0$, etc. The segmentation of a periodic time domain signal into sinusoids is called [Fourier analysis](https://en.wikipedia.org/wiki/Fourier_analysis \"Read additional information on Fourier Analysis on Wikipedia\").\n",
    "\n",
    "Each sinusoid in this ‘[Fourier Series](https://en.wikipedia.org/wiki/Fourier_series \"Read additional information about the Fourier Series on Wikipedia\")’ is characterised by its …\n",
    "* frequency\n",
    "* amplitude and\n",
    "* phase\n",
    "\n",
    "$f_0$ is termed the *fundamental frequency*\n",
    "\n",
    "$2 f_0$, $3 f_0$, $4 f_0$, etc. are termed the *harmonics*"
   ]
  },
  {
   "cell_type": "markdown",
   "id": "13c58854",
   "metadata": {},
   "source": [
    "### Saw-tooth signal\n",
    "The [sawtooth](https://en.wikipedia.org/wiki/Sawtooth_wave \"Read additional information on the saw tooth signal on Wikipedia\") signal in its most general form is defined as\n",
    "\n",
    "\\begin{equation}\n",
    "x(t) = t - \\lfloor t \\rfloor \\tag{1}\n",
    "\\end{equation}\n",
    "\n",
    "or centered around 0 as\n",
    "\n",
    "\\begin{equation}\n",
    "x(t) = 2 (t - \\lfloor t \\rfloor) - 1 \\tag{2}\n",
    "\\end{equation}\n",
    "\n",
    "The `scipy` library gives us more flexibility to generate and visualise a sawtooth signals since they can be generated as if they were sine signals. "
   ]
  },
  {
   "cell_type": "code",
   "execution_count": 9,
   "id": "b8493fac",
   "metadata": {},
   "outputs": [
    {
     "data": {
      "image/png": "[encoded data removed]",
      "text/plain": [
       "<Figure size 432x288 with 1 Axes>"
      ]
     },
     "metadata": {
      "needs_background": "light"
     },
     "output_type": "display_data"
    }
   ],
   "source": [
    "from scipy import signal\n",
    "\n",
    "t = np.linspace(0, 2, 500)\n",
    "saw_tooth = 2*(t-np.floor(t))-1\n",
    "\n",
    "f = 1 # frequency in Hz for scipy samtooth\n",
    "saw_tooth2 = signal.sawtooth(2 * np.pi * f * t)\n",
    "\n",
    "plt.plot(t, saw_tooth, label='$2$ ($t$ - floor($t$)) - $1$')\n",
    "plt.plot(t, saw_tooth2, '--', label='scipy sawtooth');\n",
    "plt.xlabel('time $t$'); plt.ylabel('$x(t)$')\n",
    "plt.legend();"
   ]
  },
  {
   "cell_type": "markdown",
   "id": "b1f7b08b",
   "metadata": {},
   "source": [
    "<br>\n",
    "<div style=\"border: 2px solid #999; padding: 10px; background: #eee;\">\n",
    "    \n",
    "**Task 1:**\n",
    "    \n",
    "Generate.....\n",
    "</div>\n",
    "\n",
    "<img src=\"signals-sine-cosine-circle2.gif\" alt=\"Relation between unit circle and the sine/cosine generation.\" style=\"width: 500px;\"/>\n",
    "<img src=\"signals-sine-circle-fourier-superposition2.gif\" alt=\"Relation between unit circle and two sine signals as first two components of saw-tooth Fourier series.\" style=\"width: 500px;\"/>\n",
    "<img src=\"signals-sine-circle-fourier-superposition4.gif\" alt=\"Relation between unit circle and four sine signals as first four components of saw-tooth Fourier series.\" style=\"width: 500px;\"/>"
   ]
  },
  {
   "cell_type": "code",
   "execution_count": null,
   "id": "536bd8a6",
   "metadata": {},
   "outputs": [],
   "source": []
  }
 ],
 "metadata": {
  "kernelspec": {
   "display_name": "Python 3 (ipykernel)",
   "language": "python",
   "name": "python3"
  },
  "language_info": {
   "codemirror_mode": {
    "name": "ipython",
    "version": 3
   },
   "file_extension": ".py",
   "mimetype": "text/x-python",
   "name": "python",
   "nbconvert_exporter": "python",
   "pygments_lexer": "ipython3",
   "version": "3.8.3"
  }
 },
 "nbformat": 4,
 "nbformat_minor": 5
}
